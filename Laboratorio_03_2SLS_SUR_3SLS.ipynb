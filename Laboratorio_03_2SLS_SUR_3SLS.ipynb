{
 "cells": [
  {
   "cell_type": "markdown",
   "id": "dfaa3f01-1cae-4c4d-9beb-dec00736e00c",
   "metadata": {
    "slideshow": {
     "slide_type": "slide"
    },
    "tags": []
   },
   "source": [
    "<center>\n",
    "    <img src=\"https://github.com/juanandres-montero/macroeconometria/blob/main/logo%20EEC%20grande.png?raw=1\" width=\"396\" height=\"161\"><br>\n",
    "    <b style=\"font-size:200%\">EC4301 MACROECONOMETRÍA</b><br>\n",
    "    <b style=\"font-size:100%\">Asistente: Juan Andrés Montero</b><br><br>\n",
    "    <b style=\"font-size:100%\"> Laboratorio #3:</b>\n",
    "    <br>    \n",
    "    <div style=\"font-size:150%; color:white; background-color: #0064b0; padding-top: 20px; padding-bottom: 20px; width: 50%; margin: 0 auto; border-radius: 15px;\">\n",
    "        MC2E, SUR y MC3E\n",
    "    </div>\n",
    "</center>\n",
    "\n",
    "<br>\n",
    "\n",
    "<i style=\"font-size:80%\"> \n",
    "    Creado: Setiembre 2024\n",
    "</i>\n",
    "\n",
    "<hr>"
   ]
  },
  {
   "cell_type": "markdown",
   "id": "251d690d-5d81-4fa4-bdfe-6b0d55593bba",
   "metadata": {
    "slideshow": {
     "slide_type": "slide"
    },
    "tags": []
   },
   "source": [
    "En MCI hay una ecuación exactamente identificada. Otra forma de estimar parámetros de forma estructural en ecuación por ecuación con información limitada es en Mínimos Cuadrados en 2 Etapas."
   ]
  },
  {
   "cell_type": "markdown",
   "id": "a63c273a",
   "metadata": {
    "slideshow": {
     "slide_type": "slide"
    },
    "tags": []
   },
   "source": [
    "# Mínimos cuadrados en dos etapas (MC2E)\n",
    "\n",
    "Queremos estimar el siguiente modelo con los datos de la economía estadounidense (1921-1941), que importamos de internet: [TBL16.DTA](https://stats.idre.ucla.edu/stat/stata/examples/greene/TBL16-2.DTA).\n",
    "\n",
    "$$\n",
    "C_t = \\alpha_0 + \\alpha_1P_t + \\alpha_2P_{t-1} + \\alpha_3(W_t^p + W_t^g) + \\epsilon_{1t} \n",
    "$$\n",
    "\n",
    "$$\n",
    "I_t = \\beta_0 + \\beta_1P_t + \\beta_2P_{t-1} + \\beta_3K_{t-1} + \\epsilon_{2t}\n",
    "$$\n",
    "\n",
    "$$\n",
    "W_t^p = \\gamma_0 + \\gamma_1X_t + \\gamma_2X_{t-1} + \\gamma_3A_t + \\epsilon_{3t}\n",
    "$$\n",
    "\n",
    "$$\n",
    "X_t = C_t + I_t + G_t \n",
    "$$\n",
    "\n",
    "$$\n",
    "P_t = X_t - T_t - W_t^p \n",
    "$$\n",
    "\n",
    "$$\n",
    "K_t = K_{t-1} + I_t \n",
    "$$\n"
   ]
  },
  {
   "cell_type": "markdown",
   "id": "de1c9f82-4bd4-4776-b21d-f568f2763ac7",
   "metadata": {
    "slideshow": {
     "slide_type": "slide"
    },
    "tags": []
   },
   "source": [
    "\n",
    "| Símbolo  | Descripción                                             |\n",
    "|----------|---------------------------------------------------------|\n",
    "| $C_t$    | Consumo                                                 |\n",
    "| $I_t$    | Inversión                                               |\n",
    "| $W_t^p$  | Salarios del sector privado                             |\n",
    "| $W_t^g$  | Salarios del sector público                             |\n",
    "| $X_t$    | Demanda agregada                                        |\n",
    "| $P_t$    | Beneficios privados                                     |\n",
    "| $K_t$    | Acervo de capital                                       |\n",
    "| $T_t$    | Impuestos                                               |\n",
    "| $G_t$    | Gasto gubernamental sin contar salarios                 |\n",
    "| $A_t$    | Tendencia lineal centrada en 1931                       |"
   ]
  },
  {
   "cell_type": "markdown",
   "id": "b523d75d-ecc0-4f75-901a-90eb110388a1",
   "metadata": {
    "slideshow": {
     "slide_type": "slide"
    },
    "tags": []
   },
   "source": [
    "Este modelo es conocido como Klein I, y es bastante representativo de los grandes modelos keynesianos de ecuaciones simultáneas que se utilizaban para estudiar el comportamiento macroeconómico antes de la crítica de Lucas.\n",
    "\n",
    "Se va a utilizar el supuesto de que las variables endógenas son $C_t$, $I_t$ y $W_t^p$. Y el resto serán exógenas"
   ]
  },
  {
   "cell_type": "markdown",
   "id": "55814ec4",
   "metadata": {
    "slideshow": {
     "slide_type": "subslide"
    },
    "tags": []
   },
   "source": [
    "Incluimos las identidades contables al modelo y creamos $A_t$ junto con $W_t^p + W_t^g$:\n",
    "\n",
    "```generate w = wg+wp```\n",
    "```generate k = kl+i```\n",
    "```generate A=year-1931```\n",
    "\n",
    "Creamos las series rezagadas\n",
    "```generate pl = p[_n-1]```\n",
    "```generate xl = x[_n-1]```"
   ]
  },
  {
   "cell_type": "markdown",
   "id": "4cf97583-1a06-4512-b270-2a517abfe621",
   "metadata": {
    "slideshow": {
     "slide_type": "slide"
    },
    "tags": []
   },
   "source": [
    "\n",
    "## Estimar MC2E \n",
    "\n",
    "1. Se escribe el comando ```reg3```, \n",
    "2. Se escriben las ecuaciones estructurales del modelo\n",
    "4. Se establece que se va a usar MC2E escribiendo ```2sls```\n",
    "5. Se indica cuáles son las variables exógenas del sistema con ```inst```:\n",
    "\n",
    "```reg3 (c p p1 w) (1 p p1 k1) (wp x x1 A), 2sls inst(t wg g A p1 x1 k1)```"
   ]
  },
  {
   "cell_type": "markdown",
   "id": "8eb750c0-0d5b-4fbb-8892-bc311ae1c1ff",
   "metadata": {
    "slideshow": {
     "slide_type": "slide"
    },
    "tags": []
   },
   "source": [
    "### ¿Y la identificación?\n",
    "\n",
    "El problema de identificación no es puramente estadístico, sino que se trata de resolver un sistema de ecuaciones, específicamente de encontrar parámetros estructurales a partir de los parámetros reducidos. Para que este sistema tenga solución, necesitamos imponer restricciones adicionales. Una manera de hacerlo es excluyendo ciertas variables exógenas de una ecuación pero no de otra, lo que equivale a decir que el parámetro correspondiente es 0 en la ecuación de donde se excluye. Sin embargo, hay otras formas de imponer restricciones. "
   ]
  },
  {
   "cell_type": "markdown",
   "id": "da5dd801",
   "metadata": {
    "slideshow": {
     "slide_type": "slide"
    },
    "tags": []
   },
   "source": [
    "## **Porqué usar MC2E?** \n",
    "- Corregir endogeneidad\n",
    "    - Etapa 1: Regresión en forma reducida\n",
    "    - Etapa 2: MCO a la ecuación transformada"
   ]
  },
  {
   "cell_type": "markdown",
   "id": "be003a74-d3ed-4699-8624-fdc24a7afd75",
   "metadata": {
    "raw_mimetype": "",
    "slideshow": {
     "slide_type": "slide"
    },
    "tags": []
   },
   "source": [
    "# Regresiones aparentemente no relacionadas (SUR)\n",
    "\n",
    "Considere el siguiente modelo SUR (Greene, 2002, p.340) con los datos del archivo ```Grunfeld and Griliches (1960).xlsx```\n",
    "\n",
    "$$\n",
    "I_{it} = \\beta_{1i} + \\beta_{2i}F_{it} + \\beta_{3i}C_{it} + \\epsilon_{it}\n",
    "$$\n",
    "\n",
    "| Símbolo  | Descripción                                                                                                                                       |\n",
    "|----------|---------------------------------------------------------------------------------------------------------------------------------------------------|\n",
    "| $I_{it}$ | Inversión realizada por la firma $i$ en el periodo $t$, incluyendo gastos en planta, equipo, mantenimiento y reparaciones.                         |\n",
    "| $C_{it}$ | Valor del stock de capital de planta y equipo con el que la firma $i$ comienza el periodo $t$.                                                     |\n",
    "| $F_{it}$ | Valor de mercado de la empresa $i$ al inicio del periodo $t$.                                                                                      |"
   ]
  },
  {
   "cell_type": "markdown",
   "id": "01b99840-83c0-4c71-bf56-bb0a8660ba7f",
   "metadata": {
    "slideshow": {
     "slide_type": "slide"
    },
    "tags": []
   },
   "source": [
    "### Firmas\n",
    "- $i \\in \\{1,2,3,4,5\\}$, donde:\n",
    "  - Firma 1: General Motors\n",
    "  - Firma 2: Chrysler\n",
    "  - Firma 3: General Electric\n",
    "  - Firma 4: Westinghouse\n",
    "  - Firma 5: US Steel\n",
    "\n",
    "### Periodo de Datos\n",
    "- 1935-1954."
   ]
  },
  {
   "cell_type": "markdown",
   "id": "e161413a-ca21-4954-9f08-8dc93ebd677c",
   "metadata": {
    "slideshow": {
     "slide_type": "slide"
    },
    "tags": []
   },
   "source": [
    "Para estimar un modelo SUR, el método más eficiente es el de mínimos cuadrados generalizados factibles (MCGF). Aunque las ecuaciones parecen no estar relacionadas porque cada una tiene su propia variable dependiente, los errores entre las ecuaciones pueden estar correlacionados. El estimador MCG corrige esta correlación, haciendo que sea más eficiente que MCO. \n",
    "Para implementar MCGF, utilizamos el comando ```sureg``` , y al comparar con la estimación por MCO, los errores estándar suelen ser menores:\n",
    "```\n",
    "*Estimamos el modelo SUR con FGLS.\n",
    "sureg (invest1 market1 stock1)  ///\n",
    "      (invest2 market2 stock2)  ///\n",
    "      (invest3 market3 stock3)  ///\n",
    "      (invest4 market4 stock4)  ///\n",
    "      (invest5 market5 stock5)\n",
    "```"
   ]
  },
  {
   "cell_type": "markdown",
   "id": "f1ddf6f4-1bbe-4eb5-8e08-604250e51804",
   "metadata": {
    "slideshow": {
     "slide_type": "slide"
    },
    "tags": []
   },
   "source": [
    "Podemos comparar estos resultados con MCO ecuación por ecuación:\n",
    "```\n",
    "reg invest1 market1 stock1\n",
    "reg invest2 market2 stock2\n",
    "reg invest3 market3 stock3\n",
    "reg invest4 market4 stock4\n",
    "reg invest5 market5 stock5\n",
    "```\n"
   ]
  },
  {
   "cell_type": "markdown",
   "id": "a8867e19-9762-4d3e-81f5-2a1934e4778c",
   "metadata": {
    "slideshow": {
     "slide_type": "slide"
    },
    "tags": []
   },
   "source": [
    "Note que los errores estándar de MCO ecuación por ecuación en general son mayores que los de \n",
    "MCGF, recuerde que este segundo es una versión del primero, pero corregido por la \n",
    "covarianza de los errores entre ecuaciones.\n",
    "\n",
    "Podemos poner a prueba la hipótesis \n",
    "$$ \\beta_{j1} = \\beta_{j2} = \\beta_{j3} = \\beta_{j4} = \\beta_{j5} \\text{ para } j=1,2,3 $$\n",
    "es decir, que los tres coeficientes de interés son iguales para las 5 firmas. Lo haremos mediante \n",
    "una prueba de razón de verosimilitud. Para ello, primero estimamos el modelo sin restricciones:\n",
    "\n",
    "```\n",
    "sureg (invest1 market1 stock1)  ///\n",
    "      (invest2 market2 stock2)  ///\n",
    "      (invest3 market3 stock3)  ///\n",
    "      (invest4 market4 stock4)  ///\n",
    "      (invest5 market5 stock5), isure\n",
    "```"
   ]
  },
  {
   "cell_type": "markdown",
   "id": "0d83eea8-8574-49c0-bb23-78937cf6e9e5",
   "metadata": {
    "slideshow": {
     "slide_type": "slide"
    },
    "tags": []
   },
   "source": [
    "Queremos iterarla porque \n",
    "> \"los estimadores de máxima verosimilitud se pueden obtener iterando el procedimiento MCGF\" (Greene, 2002, p. \n",
    "347).\"\n",
    "\n",
    "Luego escribimos ```ereturn list```, que almacena todos los resultados de interés de nuestra estimación: en particular, en ```e(11)``` almacena la log-verosimilitud (ln $L_u$): -459.0922.\n"
   ]
  },
  {
   "cell_type": "markdown",
   "id": "3d825886-440e-45c8-827a-7e61d8cc4dfe",
   "metadata": {
    "slideshow": {
     "slide_type": "slide"
    },
    "tags": []
   },
   "source": [
    "Ahora queremos usar el modelo con restricciones:\n",
    "\n",
    "$$ I_{it} = \\beta_1 + \\beta_2 F_{it} + \\beta_3 C_{it} + \\epsilon_{it} \\quad \\forall i \\in \\{1,2,3,4,5\\} $$"
   ]
  },
  {
   "cell_type": "markdown",
   "id": "6457f977-2658-444f-b1a5-1fb973086def",
   "metadata": {
    "slideshow": {
     "slide_type": "subslide"
    },
    "tags": []
   },
   "source": [
    "\n",
    "Primero, necesitamos indicarle a STATA que queremos estudiar las variables de inversión, valor de mercado y stock de capital para todas las firmas. Lo más sencillo es reorganizar los datos para que ```investj```, ```marketj``` y ```stockj``` (donde $j=1,2,3,4,5$) se agrupen en una sola variable cada una: ```invest```, ```market``` y ```stock```, con una columna adicional de identificador, por ejemplo, ```firm```.\n",
    "\n",
    "Esto se logra usando el comando ```reshape long```, que transforma los datos de un formato horizontal (```wide```) a uno vertical (```long```). Simplemente indicamos las variables de interés, especificamos que deben ser diferenciadas en el tiempo con ```i(time)```, y que STATA debe crear una variable índice con ```j(firm)```. Es crucial que las variables originales estuvieran nombradas como ```investj```, ```marketj``` y ```stockj```, para que STATA entienda cómo usar “j” como identificador."
   ]
  },
  {
   "cell_type": "markdown",
   "id": "96bf4054-bc45-4c71-a47a-8a6125a26f08",
   "metadata": {
    "slideshow": {
     "slide_type": "slide"
    },
    "tags": []
   },
   "source": [
    "\n",
    "Una vez hicimos esto, solo debemos establecer quiénes son nuestros agentes y cuál variable \n",
    "indica el tiempo; eso es lo que hace ```xtset firm time```.\n",
    "\n",
    "Con solo ```xtgls``` se estimaría el modelo con MCGF, pero agregamos ```igls``` para iterar y así \n",
    "obtener la log-verosimilitud (ln $L_r$): -515.4222 — ```panels(correlated)``` solo le indica a STATA que \n",
    "los errores entre empresas están correlacionados.\n",
    "\n",
    "Estos resultados bastan para calcular el estadístico de razón de verosimilitudes\n",
    "\n",
    "$$ -2(\\ln L_r - \\ln L_u) = -2(-515.4222 - -459.0922) = 112.66 $$\n",
    "\n",
    "Solamente restaría calcular el valor crítico para concluir sobre nuestra hipótesis de igualdad \n",
    "de coeficientes. Recuerde que el estadístico de la prueba de razón de verosimilitudes se distribuye \n",
    "como $\\chi^2$ con una cantidad de grados de libertad igual al número de restricciones (12, en este \n",
    "caso). Para una confianza del 99\\% escribimos ```display invchi2(12, 0.99)``` y obtenemos un \n",
    "valor crítico de 26.127; que es menor que el valor de nuestro estadístico: se rechaza nuestra \n",
    "hipótesis nula para todos los niveles de significancia convencionales."
   ]
  },
  {
   "cell_type": "markdown",
   "id": "e7bf50f5-15b6-4422-8cbe-e53328b14114",
   "metadata": {
    "slideshow": {
     "slide_type": "slide"
    },
    "tags": []
   },
   "source": [
    "## ¿Y “la macro”?\n",
    "\n",
    "> En macroeconomía, a veces se construyen agentes representativos para simplificar el estudio de los agregados económicos. Grunfeld y Griliches (1960) analizaron esta metodología para la inversión y encontraron que su modelo agregado de inversión ofrecía un mejor ajuste que las regresiones individuales de cada empresa. Argumentaron que, aunque los investigadores no pueden conocer a fondo a cada individuo, observar el conjunto de agentes permite superar esta limitación y estudiar el agregado de manera más efectiva.\n"
   ]
  },
  {
   "cell_type": "markdown",
   "id": "60407b9c-91e6-4919-b34c-3f2f41e82e37",
   "metadata": {
    "slideshow": {
     "slide_type": "subslide"
    },
    "tags": []
   },
   "source": [
    "Es importante señalar que gran parte del análisis de Grunfeld y Griliches se basaba en estimaciones por Mínimos Cuadrados Ordinarios (MCO). Hoy en día, se recomienda usar Mínimos Cuadrados Generalizados (MCG), que ofrece una fórmula de bondad de ajuste diferente, detallada en Greene (2002, p. 345)."
   ]
  },
  {
   "cell_type": "markdown",
   "id": "c990e98d-8131-44ec-b9e0-ff35b7a90163",
   "metadata": {
    "slideshow": {
     "slide_type": "slide"
    },
    "tags": []
   },
   "source": [
    "## ¿Por qué SUR?\n",
    "- Todas las variables son exógenas.\n",
    "- Existe una correlación contemporánea entre los errores de la ecuación."
   ]
  },
  {
   "cell_type": "markdown",
   "id": "1bd9b337-b3a4-49d7-85a5-a5d2223219e3",
   "metadata": {
    "slideshow": {
     "slide_type": "slide"
    },
    "tags": []
   },
   "source": [
    "# Mínimos cuadrados en tres etapas (MC3E)\n",
    "\n",
    "Ahora nos interesa estimar el modelo Klein por MC3E; de nuevo queremos hacerlo con los \n",
    "datos de la economía estadounidense entre 1921 y 1941. Después de los ajustes preliminares que \n",
    "hicimos arriba, solo necesitamos correr lo siguiente:\n",
    "\n",
    "```reg3 (c p p1 w) (i p p1 k1) (wp x x1 A), 3sls inst(t wg g A p1 x1 k1)```"
   ]
  },
  {
   "cell_type": "markdown",
   "id": "28e900aa-87c8-4224-a722-7dbf75ca2b9c",
   "metadata": {
    "slideshow": {
     "slide_type": "slide"
    },
    "tags": []
   },
   "source": [
    "El código para estimar el modelo con MC3E es casi idéntico al que usamos para MC2E. Las primeras dos etapas de MC3E son similares a las de MC2E. En MC3E, escribimos las tres ecuaciones estructurales a la vez porque utilizamos un método de información completa, y la tercera etapa es una corrección de la varianza con MCGF. En nuestros resultados (que omitimos por espacio), observamos que los errores estándar suelen ser menores en comparación con MC2E."
   ]
  },
  {
   "cell_type": "markdown",
   "id": "3fe75146-2d9f-4480-8746-5eaf8c4c8df2",
   "metadata": {
    "slideshow": {
     "slide_type": "slide"
    },
    "tags": []
   },
   "source": [
    "## ¿Por qué MC3E?\n",
    "\n",
    "- Alguna de las variables explicativas son endógenas.\n",
    "- Existe una correlación contemporánea entre los errores de la ecuación."
   ]
  }
 ],
 "metadata": {
  "celltoolbar": "Slideshow",
  "kernelspec": {
   "display_name": "Python 3 (ipykernel)",
   "language": "python",
   "name": "python3"
  },
  "language_info": {
   "codemirror_mode": {
    "name": "ipython",
    "version": 3
   },
   "file_extension": ".py",
   "mimetype": "text/x-python",
   "name": "python",
   "nbconvert_exporter": "python",
   "pygments_lexer": "ipython3",
   "version": "3.11.4"
  },
  "toc": {
   "base_numbering": 1,
   "nav_menu": {},
   "number_sections": true,
   "sideBar": true,
   "skip_h1_title": false,
   "title_cell": "Table of Contents",
   "title_sidebar": "Contents",
   "toc_cell": false,
   "toc_position": {},
   "toc_section_display": true,
   "toc_window_display": false
  }
 },
 "nbformat": 4,
 "nbformat_minor": 5
}
