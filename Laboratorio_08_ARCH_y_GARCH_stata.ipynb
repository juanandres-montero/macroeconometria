{
 "cells": [
  {
   "cell_type": "markdown",
   "id": "591387c1",
   "metadata": {
    "editable": true,
    "slideshow": {
     "slide_type": "slide"
    },
    "tags": []
   },
   "source": [
    "<center>\n",
    "    <img src=\"https://github.com/juanandres-montero/macroeconometria/blob/main/logo%20EEC%20grande.png?raw=1\" width=\"396\" height=\"161\"><br>\n",
    "    <b style=\"font-size:200%\">EC4301 MACROECONOMETRÍA</b><br>\n",
    "    <b style=\"font-size:100%\">Asistente: Juan Andrés Montero</b><br><br>\n",
    "    <b style=\"font-size:100%\"> Laboratorio #8:</b>\n",
    "    <br>    \n",
    "    <div style=\"font-size:150%; color:white; background-color: #0064b0; padding-top: 20px; padding-bottom: 20px; width: 50%; margin: 0 auto; border-radius: 15px; text-align: center;\">\n",
    "        Modelos ARCH y GARCH\n",
    "    </div>\n",
    "</center>\n",
    "\n",
    "<br>\n",
    "\n",
    "<i style=\"font-size:80%\"> \n",
    "    Creado: Octubre 2024\n",
    "</i>\n",
    "\n",
    "<hr>"
   ]
  },
  {
   "cell_type": "markdown",
   "id": "462b6331",
   "metadata": {
    "editable": true,
    "slideshow": {
     "slide_type": "slide"
    },
    "tags": []
   },
   "source": [
    "# Resumen del laboratorio anterior\n",
    "## **Modelo ARIMA y Pronóstico**\n",
    "- Utilizamos la metodología Box-Jenkins para ajustar un modelo ARIMA al IPC.\n",
    "- Evaluamos la estabilidad del modelo y sus residuos.\n",
    "- Realizamos pronósticos y evaluamos su precisión usando varias métricas."
   ]
  },
  {
   "cell_type": "markdown",
   "id": "729d69d8",
   "metadata": {
    "editable": true,
    "slideshow": {
     "slide_type": "slide"
    },
    "tags": []
   },
   "source": [
    "# Simulación de Modelos ARCH y GARCH\n",
    "\n",
    "En este laboratorio exploraremos la simulación y estimación de modelos ARCH y GARCH usando Stata. El código que veremos puede ser ejecutado en Stata y analizaremos los resultados.\n",
    "\n",
    "## **1. Simulación de un ARCH(1)**\n",
    "\n",
    "El modelo ARCH(1) que simularemos tiene la siguiente especificación:\n",
    "\n",
    "- $y_{t} = 10 + \\epsilon_{t}$\n",
    "- $\\epsilon_{t} = u_{t}\\sqrt{0.4 + 0.5(\\epsilon^2_{t-1})}$\n",
    "\n",
    "donde u_{t} sigue una distribución normal estándar N(0,1)."
   ]
  },
  {
   "cell_type": "markdown",
   "id": "67fe3025",
   "metadata": {},
   "source": [
    "## **2. Simulación de un GARCH(1,1)**\n",
    "\n",
    "El modelo GARCH(1,1) que simularemos tiene la siguiente especificación:\n",
    "\n",
    "- $y_{t} = 10 + \\epsilon_{t}$\n",
    "- $\\epsilon_{t} = (u_{t})*\\sigma_{t}$\n",
    "- $\\sigma^2_{t} =  0.2 + 0.4(\\epsilon^2_{t-1}) + 0.6(\\sigma^2_{t-1})$\n",
    "\n",
    "donde u_{t} sigue una distribución normal estándar N(0,1)."
   ]
  },
  {
   "cell_type": "markdown",
   "id": "fb5f5666",
   "metadata": {},
   "source": [
    "# Aplicación Empírica: Análisis del Tipo de Cambio\n",
    "\n",
    "## **Datos y Preparación**\n",
    "Analizaremos la tasa de cambio porcentual del tipo de cambio de compra colón-dólar.\n",
    "\n",
    "```stata\n",
    "clear all\n",
    "import excel \"\\tipo_cambio.xlsx\", sheet(\"Hoja1\") firstrow\n",
    "\n",
    "* Declaramos nuestra variable temporal\n",
    "tsset FECHA\n",
    "\n",
    "* Calculamos la tasa de cambio porcentual de COMPRA\n",
    "generate tasa_cambio = (D.COMPRA/L.COMPRA)*100\n",
    "```"
   ]
  },
  {
   "cell_type": "markdown",
   "id": "dce5d710",
   "metadata": {},
   "source": [
    "## **Análisis de Heteroscedasticidad**\n",
    "\n",
    "1. Estimamos un modelo ARIMA inicial:\n",
    "```stata\n",
    "arima tasa_cambio, arima(4,0,4)\n",
    "predict error, resid\n",
    "```\n",
    "\n",
    "2. Analizamos los residuos al cuadrado:\n",
    "```stata\n",
    "generate error_cuadrado = error*error\n",
    "ac error_cuadrado\n",
    "wntestq error_cuadrado\n",
    "```\n",
    "\n",
    "3. Test de McLeod-Li:\n",
    "```stata\n",
    "regress error_cuadrado L(1/15).error_cuadrado\n",
    "```"
   ]
  },
  {
   "cell_type": "markdown",
   "id": "7fd96be6",
   "metadata": {},
   "source": [
    "## **Selección del Mejor Modelo**\n",
    "\n",
    "Realizamos una búsqueda de cuadrícula sobre diferentes especificaciones GARCH:\n",
    "\n",
    "```stata\n",
    "forvalues p=0/2{\n",
    "forvalues q=1/2{\n",
    "    if `p'==0{\n",
    "        quietly arch tasa_cambio, arch(1/`q') ar(4) ma(4)\n",
    "    }\n",
    "    else {\n",
    "        quietly arch tasa_cambio, arch(1/`q') garch(1/`p') ar(4) ma(4)\n",
    "    }\n",
    "    quietly estat ic\n",
    "    matrix temp = r(S)\n",
    "    display \"p = \" `p' \" q = \" `q' \" AIC = \" temp[1,5] \" BIC = \" temp[1,6]\n",
    "}\n",
    "}\n",
    "```"
   ]
  }
 ],
 "metadata": {
  "kernelspec": {
   "display_name": "Python 3 (ipykernel)",
   "language": "python",
   "name": "python3"
  },
  "language_info": {
   "codemirror_mode": {
    "name": "ipython",
    "version": 3
   },
   "file_extension": ".py",
   "mimetype": "text/x-python",
   "name": "python",
   "nbconvert_exporter": "python",
   "pygments_lexer": "ipython3",
   "version": "3.11.4"
  }
 },
 "nbformat": 4,
 "nbformat_minor": 5
}
