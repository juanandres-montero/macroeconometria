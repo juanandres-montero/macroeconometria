{
 "cells": [
  {
   "cell_type": "markdown",
   "id": "dfaa3f01-1cae-4c4d-9beb-dec00736e00c",
   "metadata": {
    "editable": true,
    "slideshow": {
     "slide_type": "slide"
    },
    "tags": []
   },
   "source": [
    "<center>\n",
    "    <img src=\"https://github.com/juanandres-montero/macroeconometria/blob/main/logo%20EEC%20grande.png?raw=1\" width=\"396\" height=\"161\"><br>\n",
    "    <b style=\"font-size:200%\">EC4301 MACROECONOMETRÍA</b><br>\n",
    "    <b style=\"font-size:100%\">Asistente: Juan Andrés Montero</b><br><br>\n",
    "    <b style=\"font-size:100%\"> Laboratorio #6:</b>\n",
    "    <br>    \n",
    "    <div style=\"font-size:150%; color:white; background-color: #0064b0; padding-top: 20px; padding-bottom: 20px; width: 50%; margin: 0 auto; border-radius: 15px;\">\n",
    "        ARIMA\n",
    "    </div>\n",
    "</center>\n",
    "\n",
    "<br>\n",
    "\n",
    "<i style=\"font-size:80%\"> \n",
    "    Creado: Setiembre 2024\n",
    "</i>\n",
    "\n",
    "<hr>"
   ]
  },
  {
   "cell_type": "markdown",
   "id": "3b0787e4-4f96-4d11-ae15-c3c7c8399042",
   "metadata": {
    "editable": true,
    "slideshow": {
     "slide_type": "slide"
    },
    "tags": []
   },
   "source": [
    "# ARIMA\r\n",
    "\r\n",
    "---\r\n",
    "\r\n",
    "## Modelo ARIMA(p,d,q)\r\n",
    "\r\n",
    "El modelo ARIMA combina tres componentes principales:\r\n",
    "- **AR(p)**: Componente autorregresivo.\r\n",
    "- **MA(q)**: Componente de media móvil.\r\n",
    "- **d**: Veces que la serie es diferenciada para hacerla estatacionaria.\r\n",
    "\r\n",
    "---"
   ]
  },
  {
   "cell_type": "markdown",
   "id": "eff67fcf-4710-4158-a421-d73e37091b5a",
   "metadata": {
    "editable": true,
    "slideshow": {
     "slide_type": "slide"
    },
    "tags": []
   },
   "source": [
    "## Carga de Datos y Preparación\n",
    "\n",
    "Vamos a utilizar los datos del **IPC** desde enero de 2008 hasta febrero de 2021. Primero, importamos la base de datos en Stata y generamos la variable de tiempo (mes).\n",
    "\n",
    "```\n",
    "clear all \n",
    "cd \"C:/Downloads\" \n",
    "use \"Lab06.dta\" \n",
    "\n",
    "gen mes = mofd(time)\n",
    "format mes %tm\n",
    "tsset mes\n",
    "```\n",
    "\n",
    "- `mofd(time)`: Convierte la variable de tiempo a formato mensual.\n",
    "- `tsset`: Declara la variable de tiempo para análisis de series de tiempo.\n",
    "\n",
    "---"
   ]
  },
  {
   "cell_type": "markdown",
   "id": "437b2323-2272-4601-abd7-25fe9d82e634",
   "metadata": {
    "editable": true,
    "slideshow": {
     "slide_type": "slide"
    },
    "tags": []
   },
   "source": [
    "## PASO 1: Identificación de los parámetros p, q, d\n",
    "\n",
    "Para identificar los valores de $d$, $p$ y $q$, seguimos la **Metodología Box-Jenkins**.\n",
    "\n",
    "### Identificación de \\(d\\): Prueba de estacionariedad\n",
    "\n",
    "Usamos la prueba de **Dickey-Fuller Aumentada (DFA)** para verificar si la serie es estacionaria. Existen tres tipos de pruebas:\n",
    "\n"
   ]
  },
  {
   "cell_type": "markdown",
   "id": "6410ae0f-f18c-4141-8bc2-37e2e2eb4525",
   "metadata": {
    "editable": true,
    "slideshow": {
     "slide_type": "subslide"
    },
    "tags": []
   },
   "source": [
    "#### Serie con tendencia\n",
    "```\n",
    "dfuller cpi, trend regress\n",
    "```\n",
    "Se incluye una tendencia determinística en el modelo. Se agrega un término de tendencia lineal (un coeficiente multiplicado por el tiempo) en la regresión. Esto es útil cuando sospechas que la serie tiene una tendencia creciente o decreciente en el tiempo.\n",
    "#### Serie con deriva\n",
    "```\n",
    "dfuller cpi, drift regress\n",
    "```\n",
    "Se incluye un término constante (también llamado \"drift\" o deriva), lo que significa que la serie puede tener una tendencia constante (es decir, una inclinación hacia arriba o hacia abajo sin ser necesariamente lineal como en el caso de una tendencia). No se incluye un término de tendencia lineal explícito.\n",
    "\n",
    "#### Serie sin tendencia ni deriva\n",
    "```\n",
    "dfuller cpi, regress\n",
    "```\n",
    "\n",
    "En todos los casos, el resultado es que no se rechaza $H_0$, lo que indica que la serie **no es estacionaria**. "
   ]
  },
  {
   "cell_type": "markdown",
   "id": "8fdad657-a585-4ece-acf6-c32988732499",
   "metadata": {
    "editable": true,
    "slideshow": {
     "slide_type": "slide"
    },
    "tags": []
   },
   "source": [
    "### Diferenciación de la serie\n",
    "\n",
    "Aplicamos la primera diferencia de la serie para hacerla estacionaria.\n",
    "\n",
    "```\n",
    "dfuller d.cpi, regress\n",
    "```\n",
    "\n",
    "Resultado: se rechaza $H_0$, lo que indica que la serie ahora **es estacionaria**. Conclusión: la serie es integrada de orden 1 $d=1$. \n",
    "\n",
    "---"
   ]
  },
  {
   "cell_type": "markdown",
   "id": "98ff76e7-8dbe-420a-8434-99a5dd047996",
   "metadata": {
    "editable": true,
    "slideshow": {
     "slide_type": "slide"
    },
    "tags": []
   },
   "source": [
    "## FAC y FACP\n",
    "- **FAC** mide la correlación entre una variable y sus valores rezagados (anteriores) en diferentes intervalos de tiempo. Es decir, la FAC en el rezago 1 mide la correlación entre los valores de la serie en el tiempo $t$ y $t-1$; en el rezago 2, entre $t$ y $t-2$, y así sucesivamente.\n",
    "    - Una autocorrelación cercana a 1 indica una fuerte correlación positiva entre los valores actuales y pasados, mientras que un valor cercano a -1 indica una fuerte correlación negativa.\n",
    " \n",
    "- **FACP** mide la correlación entre una variable y sus valores rezagados, ajustando por las correlaciones con los rezagos intermedios. Es decir, muestra la correlación en el rezago $k$ eliminando el efecto de los rezagos intermedios (1, 2,..., $k-1$)\n",
    "    - Si en el rezago 1 la FACP es significativa y luego cae rápidamente a 0, esto podría indicar que solo hay dependencia en el corto plazo (por ejemplo, un proceso AR(1))"
   ]
  },
  {
   "cell_type": "markdown",
   "id": "c3062eb6-6a89-49f8-a731-68c68a0c6122",
   "metadata": {
    "editable": true,
    "slideshow": {
     "slide_type": "slide"
    },
    "tags": []
   },
   "source": [
    "## PASO 2: Determinación de ($p$) y ($q$) \n",
    "\n",
    "Usamos los **correlogramas** para determinar los valores de ($p$) y ($q$). \n",
    "\n",
    "### Determinación de ($q$)  (MA):\n",
    "Usamos la **Función de Autocorrelación (FAC)**.\n",
    "\n",
    "```\n",
    "ac d.cpi\n",
    "```\n",
    "Un posible valor para ($q$)  es 1.\n"
   ]
  },
  {
   "cell_type": "markdown",
   "id": "71db49ca-20c6-446a-b861-5df734d97622",
   "metadata": {
    "editable": true,
    "slideshow": {
     "slide_type": "subslide"
    },
    "tags": []
   },
   "source": [
    "### Determinación de ($p$)  (AR): \n",
    "Usamos la **Función de Autocorrelación Parcial (FACP)**.\n",
    "\n",
    "``` \n",
    "pac d.cpi\n",
    "```\n",
    "Posibles valores para ($p$): 1 o 2. \n",
    "\n",
    "Por lo tanto, los modelos candidatos son **ARIMA(1,1,1)** o **ARIMA(2,1,1)**. \n",
    "\n",
    "---"
   ]
  },
  {
   "cell_type": "markdown",
   "id": "c663e48a-c1ad-47fe-9a27-729e77a2e67f",
   "metadata": {
    "editable": true,
    "slideshow": {
     "slide_type": "slide"
    },
    "tags": []
   },
   "source": [
    "### Correlograma\n",
    "\n",
    "Para visualizar ambas pruebas también se puede utilizar lo siguiente:\n",
    "\n",
    "```corrgram d.cpi, lags(20)```\n",
    "\n",
    "Que muestra el mismo resultado anterior."
   ]
  },
  {
   "cell_type": "markdown",
   "id": "2f1ddd1a",
   "metadata": {
    "editable": true,
    "slideshow": {
     "slide_type": "slide"
    },
    "tags": []
   },
   "source": [
    "## PASO 3: Estimación de parámetros\r\n",
    "\r\n",
    "Estimamos los modelos ARIMA(1,1,1) y ARIMA(2,1,1) y comparamos sus **criterios de información**.\r\n",
    "\r\n",
    "### ARIMA(1,1,1)\r\n",
    "```stata\r\n",
    "arima cpi, arima(1,1,1)\r\n",
    "estat ic\r\n",
    "```\r\n",
    "\r\n",
    "### ARIMA(2,1,1)\r\n",
    "```stata\r\n",
    "arima cpi, arima(2,1,1)\r\n",
    "estat ic\r\n",
    "```"
   ]
  },
  {
   "cell_type": "markdown",
   "id": "77ff9bb5-befc-459e-9a98-df0403325e78",
   "metadata": {
    "editable": true,
    "slideshow": {
     "slide_type": "subslide"
    },
    "tags": []
   },
   "source": [
    "### Resultados:\r\n",
    "- **Criterio de Akaike** favorece el modelo ARIMA(2,1,1).\r\n",
    "- **Criterio de Bayes** favorece el modelo ARIMA(1,1,1).\r\n",
    "- **Error cuadrático medio ($\\sigma$)** es menor en el modelo ARIMA(2,1,1). \n",
    "\r\n",
    "Conclusión: se selecciona el modelo **ARIMA(2,1,1)**.\r\n",
    "\r\n",
    "---"
   ]
  },
  {
   "cell_type": "markdown",
   "id": "9e96b620-10b7-4e9a-a4c0-efe892b7bc18",
   "metadata": {
    "editable": true,
    "slideshow": {
     "slide_type": "slide"
    },
    "tags": []
   },
   "source": [
    "## PASO 4: Diagnóstico\n",
    "\n",
    "### Verificación de ruido blanco en los errores\n",
    "\n",
    "Calculamos los **residuos** del modelo ARIMA(2,1,1) y realizamos una prueba de ruido blanco (Ljung-Box).\n",
    "\n",
    "```\n",
    "arima cpi, arima(2,1,1)\n",
    "predict error, resid\n",
    "wntestq error\n",
    "```\n",
    "\n",
    "Resultado: no se rechaza $H_0$, lo que indica que los errores son ruido blanco."
   ]
  },
  {
   "cell_type": "markdown",
   "id": "a49549e0-e299-40d8-a34f-9246ab61964a",
   "metadata": {
    "editable": true,
    "slideshow": {
     "slide_type": "subslide"
    },
    "tags": []
   },
   "source": [
    "\r\n",
    "### Verificación de estabilidad e invertibilidad\r\n",
    "\r\n",
    "Usamos las **raíces del polinomio** para verificar la estabilidad del modelo.\r\n",
    "\r\n",
    "```stata\r\n",
    "estat aroots\r\n",
    "```\r\n",
    "\r\n",
    "Si todas las raíces están fuera del círculo unitario, el proceso es estable e invertible.\r\n",
    "\r\n",
    "---"
   ]
  },
  {
   "cell_type": "markdown",
   "id": "2cb3faa1-ec87-444d-be82-bc6cf03b2c40",
   "metadata": {
    "editable": true,
    "slideshow": {
     "slide_type": "slide"
    },
    "tags": []
   },
   "source": [
    "## Conclusión\n",
    "\n",
    "El modelo final seleccionado es **ARIMA(2,1,1)**, y ha pasado todas las pruebas de diagnóstico.\n",
    "\n",
    "---"
   ]
  },
  {
   "cell_type": "markdown",
   "id": "29e291a3-2eed-403b-af11-daf792f20ffa",
   "metadata": {
    "editable": true,
    "slideshow": {
     "slide_type": "slide"
    },
    "tags": []
   },
   "source": [
    "# Autoarima\n",
    "\n",
    "Se pueden encontrar los mejores modelos automáticamente "
   ]
  }
 ],
 "metadata": {
  "kernelspec": {
   "display_name": "Python 3 (ipykernel)",
   "language": "python",
   "name": "python3"
  },
  "language_info": {
   "codemirror_mode": {
    "name": "ipython",
    "version": 3
   },
   "file_extension": ".py",
   "mimetype": "text/x-python",
   "name": "python",
   "nbconvert_exporter": "python",
   "pygments_lexer": "ipython3",
   "version": "3.11.4"
  }
 },
 "nbformat": 4,
 "nbformat_minor": 5
}
