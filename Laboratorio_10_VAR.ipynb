{
  "nbformat": 4,
  "nbformat_minor": 0,
  "metadata": {
    "colab": {
      "provenance": [],
      "gpuType": "T4",
      "authorship_tag": "ABX9TyPVqDMa3KfKZpkXvvrT5rnb",
      "include_colab_link": true
    },
    "kernelspec": {
      "name": "python3",
      "display_name": "Python 3"
    },
    "language_info": {
      "name": "python"
    },
    "accelerator": "GPU"
  },
  "cells": [
    {
      "cell_type": "markdown",
      "metadata": {
        "id": "view-in-github",
        "colab_type": "text"
      },
      "source": [
        "<a href=\"https://colab.research.google.com/github/juanandres-montero/macroeconometria/blob/main/Laboratorio_10_VAR.ipynb\" target=\"_parent\"><img src=\"https://colab.research.google.com/assets/colab-badge.svg\" alt=\"Open In Colab\"/></a>"
      ]
    },
    {
      "cell_type": "markdown",
      "source": [
        "<link rel=\"stylesheet\" type=\"text/css\"\n",
        "    href=\"https://cdn.rawgit.com/dreampulse/computer-modern-web-font/master/fonts.css\">\n",
        "<style>\n",
        "body {\n",
        "  font-family: \"Computer Modern Sans\", sans-serif;\n",
        "}\n",
        "h1, h3 {\n",
        "  font-weight: bold;\n",
        "}\n",
        "</style>\n",
        "\n",
        "<center>\n",
        "  <img src=\"https://github.com/juanandres-montero/microeconometria/blob/main/logo%20EEC%20grande.png?raw=1\" width=\"396\" height=\"161\">\n",
        "  <h1></h1>\n",
        "  <h1 style=\"text-align: center;\">EC-4301 MACROECONOMETRÍA</h1>\n",
        "  <h2 style=\"text-align: center;\">Asist. Juan Andrés Montero Zúñiga</h2>\n",
        "  <br>\n",
        "  <h3> Laboratorio 10:</h3>\n",
        "  <div style=\"font-size:250%;color:white; background-color: #0064b0;\">VAR</div>\n",
        "</center>\n",
        "<br><br>\n",
        "\n",
        "<i>\n",
        "    Creado: 2024-Jun\n",
        "</i>\n",
        "\n",
        "<hr>"
      ],
      "metadata": {
        "id": "mGrVjHPEVUO-"
      }
    },
    {
      "cell_type": "markdown",
      "source": [
        "Importar datos y establecer la variable de tiempo. Carga de datos y conversión de la columna TRIMESTRE:"
      ],
      "metadata": {
        "id": "PNpfKA1cxj0b"
      }
    },
    {
      "cell_type": "code",
      "source": [
        "import pandas as pd\n",
        "!wget https://github.com/juanandres-montero/macroeconometria/raw/main/LAB_VAR.xlsx\n",
        "# Cargar los datos\n",
        "df = pd.read_excel(\"/content/LAB_VAR.xlsx\", sheet_name=\"Hoja1\")"
      ],
      "metadata": {
        "colab": {
          "base_uri": "https://localhost:8080/"
        },
        "id": "I-6jhxC6y75E",
        "outputId": "9bd666fe-33eb-4dfa-e516-d2c49130728c"
      },
      "execution_count": 1,
      "outputs": [
        {
          "output_type": "stream",
          "name": "stdout",
          "text": [
            "--2024-07-02 11:21:12--  https://github.com/juanandres-montero/macroeconometria/raw/main/LAB_VAR.xlsx\n",
            "Resolving github.com (github.com)... 140.82.116.3\n",
            "Connecting to github.com (github.com)|140.82.116.3|:443... connected.\n",
            "HTTP request sent, awaiting response... 302 Found\n",
            "Location: https://raw.githubusercontent.com/juanandres-montero/macroeconometria/main/LAB_VAR.xlsx [following]\n",
            "--2024-07-02 11:21:13--  https://raw.githubusercontent.com/juanandres-montero/macroeconometria/main/LAB_VAR.xlsx\n",
            "Resolving raw.githubusercontent.com (raw.githubusercontent.com)... 185.199.108.133, 185.199.109.133, 185.199.110.133, ...\n",
            "Connecting to raw.githubusercontent.com (raw.githubusercontent.com)|185.199.108.133|:443... connected.\n",
            "HTTP request sent, awaiting response... 200 OK\n",
            "Length: 10974 (11K) [application/octet-stream]\n",
            "Saving to: ‘LAB_VAR.xlsx’\n",
            "\n",
            "LAB_VAR.xlsx        100%[===================>]  10.72K  --.-KB/s    in 0s      \n",
            "\n",
            "2024-07-02 11:21:13 (85.0 MB/s) - ‘LAB_VAR.xlsx’ saved [10974/10974]\n",
            "\n"
          ]
        }
      ]
    },
    {
      "cell_type": "code",
      "source": [
        "# Convertir TRIMESTRE a una fecha trimestral\n",
        "df['fecha'] = pd.PeriodIndex(df['TRIMESTRE'], freq='Q')\n",
        "df.drop('TRIMESTRE', axis=1, inplace=True)\n",
        "\n",
        "# Establecer la columna de fecha como índice\n",
        "df.set_index('fecha', inplace=True)\n",
        "df.index = df.index.to_timestamp()\n",
        "\n",
        "print(df.head())"
      ],
      "metadata": {
        "colab": {
          "base_uri": "https://localhost:8080/"
        },
        "id": "vC4kLxEMxjiL",
        "outputId": "5285865f-ecdc-4639-9d4e-3eb72fe46d11"
      },
      "execution_count": 2,
      "outputs": [
        {
          "output_type": "stream",
          "name": "stdout",
          "text": [
            "                 TPM        DES       INF\n",
            "fecha                                    \n",
            "2010-07-01  8.298913   8.616859  5.295401\n",
            "2010-10-01  6.717391   9.213320  5.730094\n",
            "2011-01-01  6.500000   9.808034  4.663774\n",
            "2011-04-01  6.054945   9.964216  4.901599\n",
            "2011-07-01  5.000000  10.930072  5.206814\n"
          ]
        }
      ]
    },
    {
      "cell_type": "markdown",
      "source": [
        "Selección del número de rezagos óptimo. Evaluación del número de rezagos óptimo:"
      ],
      "metadata": {
        "id": "AvY0vu7zx3_z"
      }
    },
    {
      "cell_type": "code",
      "source": [
        "import statsmodels.api as sm\n",
        "\n",
        "# Crear el modelo VAR\n",
        "model = sm.tsa.VAR(df)\n",
        "\n",
        "# Selección del número de rezagos óptimo usando criterios de información\n",
        "lag_order = model.select_order(maxlags=8)\n",
        "print(lag_order.summary())"
      ],
      "metadata": {
        "colab": {
          "base_uri": "https://localhost:8080/"
        },
        "id": "xz2ZfOPGxheP",
        "outputId": "4d3f79cf-fbc9-4552-9199-cd1b511029cd"
      },
      "execution_count": 3,
      "outputs": [
        {
          "output_type": "stream",
          "name": "stdout",
          "text": [
            " VAR Order Selection (* highlights the minimums) \n",
            "=================================================\n",
            "      AIC         BIC         FPE         HQIC   \n",
            "-------------------------------------------------\n",
            "0       1.429       1.568       4.175       1.474\n",
            "1      -1.563      -1.008      0.2104      -1.382\n",
            "2      -1.927     -0.9560      0.1490      -1.611\n",
            "3      -1.773     -0.3851      0.1825      -1.321\n",
            "4      -1.650      0.1543      0.2266      -1.062\n",
            "5      -1.909      0.3116      0.2061      -1.185\n",
            "6      -2.258      0.3788      0.1913      -1.398\n",
            "7      -2.491      0.5624      0.2394      -1.495\n",
            "8     -4.545*     -1.076*    0.06836*     -3.414*\n",
            "-------------------------------------------------\n"
          ]
        }
      ]
    },
    {
      "cell_type": "markdown",
      "source": [
        "Ajuste del modelo VAR y evaluación de la estabilidad. Ajuste del modelo VAR con 8 rezagos y evaluación de la estabilidad:"
      ],
      "metadata": {
        "id": "O9eM688hyArj"
      }
    },
    {
      "cell_type": "code",
      "source": [
        "# Ajuste del modelo VAR con 8 rezagos\n",
        "var_model = model.fit(maxlags=8)\n",
        "print(var_model.summary())\n",
        "\n",
        "# Evaluación de la estabilidad\n",
        "is_stable = var_model.is_stable()\n",
        "print(\"El modelo VAR es estable:\", is_stable)"
      ],
      "metadata": {
        "colab": {
          "base_uri": "https://localhost:8080/"
        },
        "id": "hfPqdt7CyGeQ",
        "outputId": "251ff408-831a-48cf-bcac-fa36732ca6cf"
      },
      "execution_count": 5,
      "outputs": [
        {
          "output_type": "stream",
          "name": "stdout",
          "text": [
            "  Summary of Regression Results   \n",
            "==================================\n",
            "Model:                         VAR\n",
            "Method:                        OLS\n",
            "Date:           Tue, 02, Jul, 2024\n",
            "Time:                     11:21:30\n",
            "--------------------------------------------------------------------\n",
            "No. of Equations:         3.00000    BIC:                   -1.30823\n",
            "Nobs:                     38.0000    HQIC:                  -1.64137\n",
            "Log likelihood:          -115.077    FPE:                   0.161539\n",
            "AIC:                     -1.82536    Det(Omega_mle):        0.119641\n",
            "--------------------------------------------------------------------\n",
            "Results for equation TPM\n",
            "=========================================================================\n",
            "            coefficient       std. error           t-stat            prob\n",
            "-------------------------------------------------------------------------\n",
            "const          2.283015         0.964709            2.367           0.018\n",
            "L1.TPM         0.753344         0.094732            7.952           0.000\n",
            "L1.DES        -0.164184         0.095631           -1.717           0.086\n",
            "L1.INF         0.091461         0.066679            1.372           0.170\n",
            "=========================================================================\n",
            "\n",
            "Results for equation DES\n",
            "=========================================================================\n",
            "            coefficient       std. error           t-stat            prob\n",
            "-------------------------------------------------------------------------\n",
            "const          2.305098         1.265450            1.822           0.069\n",
            "L1.TPM         0.243080         0.124264            1.956           0.050\n",
            "L1.DES         0.708101         0.125443            5.645           0.000\n",
            "L1.INF        -0.127775         0.087466           -1.461           0.144\n",
            "=========================================================================\n",
            "\n",
            "Results for equation INF\n",
            "=========================================================================\n",
            "            coefficient       std. error           t-stat            prob\n",
            "-------------------------------------------------------------------------\n",
            "const         -0.062819         1.589070           -0.040           0.968\n",
            "L1.TPM         0.119353         0.156042            0.765           0.444\n",
            "L1.DES        -0.003921         0.157524           -0.025           0.980\n",
            "L1.INF         0.827842         0.109834            7.537           0.000\n",
            "=========================================================================\n",
            "\n",
            "Correlation matrix of residuals\n",
            "            TPM       DES       INF\n",
            "TPM    1.000000 -0.003374  0.307149\n",
            "DES   -0.003374  1.000000 -0.031718\n",
            "INF    0.307149 -0.031718  1.000000\n",
            "\n",
            "\n",
            "\n",
            "El modelo VAR es estable: True\n"
          ]
        }
      ]
    },
    {
      "cell_type": "markdown",
      "source": [
        "Ajuste del modelo VAR con 1 rezago (según SBIC) y evaluación de la estabilidad:"
      ],
      "metadata": {
        "id": "cP08Nwl_yTBN"
      }
    },
    {
      "cell_type": "code",
      "source": [
        "# Ajuste del modelo VAR con 2 rezagos\n",
        "var_model_1 = model.fit(maxlags=2)\n",
        "print(var_model_1.summary())\n",
        "\n",
        "# Evaluación de la estabilidad\n",
        "is_stable_1 = var_model_1.is_stable()\n",
        "print(\"El modelo VAR con 2 rezagos es estable:\", is_stable_1)\n"
      ],
      "metadata": {
        "colab": {
          "base_uri": "https://localhost:8080/"
        },
        "id": "_yuRg01YycCj",
        "outputId": "c90d134c-026f-462c-a994-018df6147cb9"
      },
      "execution_count": null,
      "outputs": [
        {
          "output_type": "stream",
          "name": "stdout",
          "text": [
            "  Summary of Regression Results   \n",
            "==================================\n",
            "Model:                         VAR\n",
            "Method:                        OLS\n",
            "Date:           Sun, 30, Jun, 2024\n",
            "Time:                     06:19:09\n",
            "--------------------------------------------------------------------\n",
            "No. of Equations:         3.00000    BIC:                   -1.30823\n",
            "Nobs:                     38.0000    HQIC:                  -1.64137\n",
            "Log likelihood:          -115.077    FPE:                   0.161539\n",
            "AIC:                     -1.82536    Det(Omega_mle):        0.119641\n",
            "--------------------------------------------------------------------\n",
            "Results for equation TPM\n",
            "=========================================================================\n",
            "            coefficient       std. error           t-stat            prob\n",
            "-------------------------------------------------------------------------\n",
            "const          2.283015         0.964709            2.367           0.018\n",
            "L1.TPM         0.753344         0.094732            7.952           0.000\n",
            "L1.DES        -0.164184         0.095631           -1.717           0.086\n",
            "L1.INF         0.091461         0.066679            1.372           0.170\n",
            "=========================================================================\n",
            "\n",
            "Results for equation DES\n",
            "=========================================================================\n",
            "            coefficient       std. error           t-stat            prob\n",
            "-------------------------------------------------------------------------\n",
            "const          2.305098         1.265450            1.822           0.069\n",
            "L1.TPM         0.243080         0.124264            1.956           0.050\n",
            "L1.DES         0.708101         0.125443            5.645           0.000\n",
            "L1.INF        -0.127775         0.087466           -1.461           0.144\n",
            "=========================================================================\n",
            "\n",
            "Results for equation INF\n",
            "=========================================================================\n",
            "            coefficient       std. error           t-stat            prob\n",
            "-------------------------------------------------------------------------\n",
            "const         -0.062819         1.589070           -0.040           0.968\n",
            "L1.TPM         0.119353         0.156042            0.765           0.444\n",
            "L1.DES        -0.003921         0.157524           -0.025           0.980\n",
            "L1.INF         0.827842         0.109834            7.537           0.000\n",
            "=========================================================================\n",
            "\n",
            "Correlation matrix of residuals\n",
            "            TPM       DES       INF\n",
            "TPM    1.000000 -0.003374  0.307149\n",
            "DES   -0.003374  1.000000 -0.031718\n",
            "INF    0.307149 -0.031718  1.000000\n",
            "\n",
            "\n",
            "\n",
            "El modelo VAR con 1 rezago es estable: True\n"
          ]
        }
      ]
    }
  ]
}