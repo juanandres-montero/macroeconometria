{
  "nbformat": 4,
  "nbformat_minor": 0,
  "metadata": {
    "colab": {
      "provenance": [],
      "gpuType": "T4",
      "authorship_tag": "ABX9TyOmN58IF7N/V3mOFKPUykA6",
      "include_colab_link": true
    },
    "kernelspec": {
      "name": "python3",
      "display_name": "Python 3"
    },
    "language_info": {
      "name": "python"
    },
    "accelerator": "GPU"
  },
  "cells": [
    {
      "cell_type": "markdown",
      "metadata": {
        "id": "view-in-github",
        "colab_type": "text"
      },
      "source": [
        "<a href=\"https://colab.research.google.com/github/juanandres-montero/macroeconometria/blob/main/Laboratorio_10_VAR.ipynb\" target=\"_parent\"><img src=\"https://colab.research.google.com/assets/colab-badge.svg\" alt=\"Open In Colab\"/></a>"
      ]
    },
    {
      "cell_type": "markdown",
      "source": [
        "<link rel=\"stylesheet\" type=\"text/css\"\n",
        "    href=\"https://cdn.rawgit.com/dreampulse/computer-modern-web-font/master/fonts.css\">\n",
        "<style>\n",
        "body {\n",
        "  font-family: \"Computer Modern Sans\", sans-serif;\n",
        "}\n",
        "h1, h3 {\n",
        "  font-weight: bold;\n",
        "}\n",
        "</style>\n",
        "\n",
        "<center>\n",
        "  <img src=\"https://github.com/juanandres-montero/microeconometria/blob/main/logo%20EEC%20grande.png?raw=1\" width=\"396\" height=\"161\">\n",
        "  <h1></h1>\n",
        "  <h1 style=\"text-align: center;\">EC-4301 MACROECONOMETRÍA</h1>\n",
        "  <h2 style=\"text-align: center;\">Asist. Juan Andrés Montero Zúñiga</h2>\n",
        "  <br>\n",
        "  <h3> Laboratorio 10:</h3>\n",
        "  <div style=\"font-size:250%;color:white; background-color: #0064b0;\">VAR</div>\n",
        "</center>\n",
        "<br><br>\n",
        "\n",
        "<i>\n",
        "    Creado: 2024-Jun\n",
        "</i>\n",
        "\n",
        "<hr>"
      ],
      "metadata": {
        "id": "mGrVjHPEVUO-"
      }
    },
    {
      "cell_type": "markdown",
      "source": [
        "Importar datos y establecer la variable de tiempo. Carga de datos y conversión de la columna TRIMESTRE:"
      ],
      "metadata": {
        "id": "PNpfKA1cxj0b"
      }
    },
    {
      "cell_type": "code",
      "source": [
        "import pandas as pd\n",
        "!wget https://github.com/juanandres-montero/macroeconometria/raw/main/LAB_VAR.xlsx\n",
        "# Cargar los datos\n",
        "df = pd.read_excel(\"/content/LAB_VAR.xlsx\", sheet_name=\"Hoja1\")"
      ],
      "metadata": {
        "colab": {
          "base_uri": "https://localhost:8080/"
        },
        "id": "I-6jhxC6y75E",
        "outputId": "f1868844-9117-4ca2-800b-185f26f8aa0c"
      },
      "execution_count": null,
      "outputs": [
        {
          "output_type": "stream",
          "name": "stdout",
          "text": [
            "--2024-06-30 06:19:05--  https://github.com/juanandres-montero/macroeconometria/raw/main/LAB_VAR.xlsx\n",
            "Resolving github.com (github.com)... 140.82.114.4\n",
            "Connecting to github.com (github.com)|140.82.114.4|:443... connected.\n",
            "HTTP request sent, awaiting response... 302 Found\n",
            "Location: https://raw.githubusercontent.com/juanandres-montero/macroeconometria/main/LAB_VAR.xlsx [following]\n",
            "--2024-06-30 06:19:05--  https://raw.githubusercontent.com/juanandres-montero/macroeconometria/main/LAB_VAR.xlsx\n",
            "Resolving raw.githubusercontent.com (raw.githubusercontent.com)... 185.199.111.133, 185.199.109.133, 185.199.110.133, ...\n",
            "Connecting to raw.githubusercontent.com (raw.githubusercontent.com)|185.199.111.133|:443... connected.\n",
            "HTTP request sent, awaiting response... 200 OK\n",
            "Length: 10974 (11K) [application/octet-stream]\n",
            "Saving to: ‘LAB_VAR.xlsx.1’\n",
            "\n",
            "LAB_VAR.xlsx.1      100%[===================>]  10.72K  --.-KB/s    in 0s      \n",
            "\n",
            "2024-06-30 06:19:05 (50.6 MB/s) - ‘LAB_VAR.xlsx.1’ saved [10974/10974]\n",
            "\n"
          ]
        }
      ]
    },
    {
      "cell_type": "code",
      "source": [
        "# Convertir TRIMESTRE a una fecha trimestral\n",
        "df['fecha'] = pd.PeriodIndex(df['TRIMESTRE'], freq='Q')\n",
        "df.drop('TRIMESTRE', axis=1, inplace=True)\n",
        "\n",
        "# Establecer la columna de fecha como índice\n",
        "df.set_index('fecha', inplace=True)\n",
        "df.index = df.index.to_timestamp()\n",
        "\n",
        "print(df.head())"
      ],
      "metadata": {
        "colab": {
          "base_uri": "https://localhost:8080/"
        },
        "id": "vC4kLxEMxjiL",
        "outputId": "a2f20232-1dae-4b82-d0a6-34d678c1c020"
      },
      "execution_count": null,
      "outputs": [
        {
          "output_type": "stream",
          "name": "stdout",
          "text": [
            "                 TPM        DES       INF\n",
            "fecha                                    \n",
            "2010-07-01  8.298913   8.616859  5.295401\n",
            "2010-10-01  6.717391   9.213320  5.730094\n",
            "2011-01-01  6.500000   9.808034  4.663774\n",
            "2011-04-01  6.054945   9.964216  4.901599\n",
            "2011-07-01  5.000000  10.930072  5.206814\n"
          ]
        }
      ]
    },
    {
      "cell_type": "markdown",
      "source": [
        "Selección del número de rezagos óptimo. Evaluación del número de rezagos óptimo:"
      ],
      "metadata": {
        "id": "AvY0vu7zx3_z"
      }
    },
    {
      "cell_type": "code",
      "source": [
        "import statsmodels.api as sm\n",
        "\n",
        "# Crear el modelo VAR\n",
        "model = sm.tsa.VAR(df)\n",
        "\n",
        "# Selección del número de rezagos óptimo usando criterios de información\n",
        "lag_order = model.select_order(maxlags=8)\n",
        "print(lag_order.summary())"
      ],
      "metadata": {
        "colab": {
          "base_uri": "https://localhost:8080/"
        },
        "id": "xz2ZfOPGxheP",
        "outputId": "d5e1bf5d-1ab5-4efa-ff9b-183f92dacd5f"
      },
      "execution_count": null,
      "outputs": [
        {
          "output_type": "stream",
          "name": "stdout",
          "text": [
            " VAR Order Selection (* highlights the minimums) \n",
            "=================================================\n",
            "      AIC         BIC         FPE         HQIC   \n",
            "-------------------------------------------------\n",
            "0       1.429       1.568       4.175       1.474\n",
            "1      -1.563      -1.008      0.2104      -1.382\n",
            "2      -1.927     -0.9560      0.1490      -1.611\n",
            "3      -1.773     -0.3851      0.1825      -1.321\n",
            "4      -1.650      0.1543      0.2266      -1.062\n",
            "5      -1.909      0.3116      0.2061      -1.185\n",
            "6      -2.258      0.3788      0.1913      -1.398\n",
            "7      -2.491      0.5624      0.2394      -1.495\n",
            "8     -4.545*     -1.076*    0.06836*     -3.414*\n",
            "-------------------------------------------------\n"
          ]
        }
      ]
    },
    {
      "cell_type": "markdown",
      "source": [
        "Ajuste del modelo VAR y evaluación de la estabilidad. Ajuste del modelo VAR con 8 rezagos y evaluación de la estabilidad:"
      ],
      "metadata": {
        "id": "O9eM688hyArj"
      }
    },
    {
      "cell_type": "code",
      "source": [
        "# Ajuste del modelo VAR con 8 rezagos\n",
        "var_model = model.fit(maxlags=8)\n",
        "print(var_model.summary())\n",
        "\n",
        "# Evaluación de la estabilidad\n",
        "is_stable = var_model.is_stable()\n",
        "print(\"El modelo VAR es estable:\", is_stable)"
      ],
      "metadata": {
        "colab": {
          "base_uri": "https://localhost:8080/"
        },
        "id": "hfPqdt7CyGeQ",
        "outputId": "30fa59ee-cec5-4898-f5a7-ef2b1555cda5"
      },
      "execution_count": null,
      "outputs": [
        {
          "output_type": "stream",
          "name": "stdout",
          "text": [
            "  Summary of Regression Results   \n",
            "==================================\n",
            "Model:                         VAR\n",
            "Method:                        OLS\n",
            "Date:           Sun, 30, Jun, 2024\n",
            "Time:                     06:19:09\n",
            "--------------------------------------------------------------------\n",
            "No. of Equations:         3.00000    BIC:                   -1.07578\n",
            "Nobs:                     31.0000    HQIC:                  -3.41419\n",
            "Log likelihood:           13.4878    FPE:                  0.0683555\n",
            "AIC:                     -4.54510    Det(Omega_mle):       0.0115956\n",
            "--------------------------------------------------------------------\n",
            "Results for equation TPM\n",
            "=========================================================================\n",
            "            coefficient       std. error           t-stat            prob\n",
            "-------------------------------------------------------------------------\n",
            "const         15.040059         5.130225            2.932           0.003\n",
            "L1.TPM         0.980107         0.362252            2.706           0.007\n",
            "L1.DES        -0.133962         0.215408           -0.622           0.534\n",
            "L1.INF         0.373069         0.223459            1.670           0.095\n",
            "L2.TPM        -0.426703         0.565440           -0.755           0.450\n",
            "L2.DES        -0.449432         0.229150           -1.961           0.050\n",
            "L2.INF        -0.108118         0.322792           -0.335           0.738\n",
            "L3.TPM        -0.054386         0.601405           -0.090           0.928\n",
            "L3.DES        -0.249224         0.263396           -0.946           0.344\n",
            "L3.INF         0.165931         0.302677            0.548           0.584\n",
            "L4.TPM         0.646210         0.542692            1.191           0.234\n",
            "L4.DES        -0.089201         0.199080           -0.448           0.654\n",
            "L4.INF        -0.204872         0.299446           -0.684           0.494\n",
            "L5.TPM        -0.380217         0.448562           -0.848           0.397\n",
            "L5.DES        -0.151289         0.228870           -0.661           0.509\n",
            "L5.INF        -0.104719         0.353898           -0.296           0.767\n",
            "L6.TPM         0.369059         0.505912            0.729           0.466\n",
            "L6.DES        -0.087282         0.237785           -0.367           0.714\n",
            "L6.INF         0.157632         0.359050            0.439           0.661\n",
            "L7.TPM         0.255544         0.507023            0.504           0.614\n",
            "L7.DES        -0.204579         0.228430           -0.896           0.370\n",
            "L7.INF        -0.354039         0.315730           -1.121           0.262\n",
            "L8.TPM         0.052546         0.326031            0.161           0.872\n",
            "L8.DES        -0.303087         0.258614           -1.172           0.241\n",
            "L8.INF        -0.112212         0.186089           -0.603           0.547\n",
            "=========================================================================\n",
            "\n",
            "Results for equation DES\n",
            "=========================================================================\n",
            "            coefficient       std. error           t-stat            prob\n",
            "-------------------------------------------------------------------------\n",
            "const         -0.196617         8.695293           -0.023           0.982\n",
            "L1.TPM         0.902837         0.613986            1.470           0.141\n",
            "L1.DES        -0.121281         0.365098           -0.332           0.740\n",
            "L1.INF         0.422716         0.378745            1.116           0.264\n",
            "L2.TPM        -0.598313         0.958373           -0.624           0.532\n",
            "L2.DES         0.099294         0.388390            0.256           0.798\n",
            "L2.INF        -0.582740         0.547105           -1.065           0.287\n",
            "L3.TPM         0.415238         1.019330            0.407           0.684\n",
            "L3.DES         0.957181         0.446434            2.144           0.032\n",
            "L3.INF         0.045547         0.513012            0.089           0.929\n",
            "L4.TPM        -0.868915         0.919817           -0.945           0.345\n",
            "L4.DES         0.340887         0.337423            1.010           0.312\n",
            "L4.INF        -0.168456         0.507536           -0.332           0.740\n",
            "L5.TPM         0.943965         0.760274            1.242           0.214\n",
            "L5.DES         0.525008         0.387915            1.353           0.176\n",
            "L5.INF         0.113973         0.599827            0.190           0.849\n",
            "L6.TPM        -0.308783         0.857478           -0.360           0.719\n",
            "L6.DES        -0.534456         0.403026           -1.326           0.185\n",
            "L6.INF        -0.189014         0.608559           -0.311           0.756\n",
            "L7.TPM         0.386071         0.859361            0.449           0.653\n",
            "L7.DES        -0.243625         0.387170           -0.629           0.529\n",
            "L7.INF         0.242315         0.535135            0.453           0.651\n",
            "L8.TPM        -0.991070         0.552595           -1.793           0.073\n",
            "L8.DES         0.025630         0.438329            0.058           0.953\n",
            "L8.INF         0.260163         0.315406            0.825           0.409\n",
            "=========================================================================\n",
            "\n",
            "Results for equation INF\n",
            "=========================================================================\n",
            "            coefficient       std. error           t-stat            prob\n",
            "-------------------------------------------------------------------------\n",
            "const        -13.590185         6.285225           -2.162           0.031\n",
            "L1.TPM         1.665955         0.443808            3.754           0.000\n",
            "L1.DES        -0.211860         0.263904           -0.803           0.422\n",
            "L1.INF         0.810902         0.273768            2.962           0.003\n",
            "L2.TPM        -0.980127         0.692742           -1.415           0.157\n",
            "L2.DES        -0.479185         0.280741           -1.707           0.088\n",
            "L2.INF        -0.710959         0.395464           -1.798           0.072\n",
            "L3.TPM         0.821017         0.736803            1.114           0.265\n",
            "L3.DES         0.203833         0.322696            0.632           0.528\n",
            "L3.INF         0.212694         0.370821            0.574           0.566\n",
            "L4.TPM        -0.302225         0.664872           -0.455           0.649\n",
            "L4.DES        -0.462075         0.243900           -1.895           0.058\n",
            "L4.INF        -0.750712         0.366863           -2.046           0.041\n",
            "L5.TPM         0.286802         0.549549            0.522           0.602\n",
            "L5.DES         0.238331         0.280397            0.850           0.395\n",
            "L5.INF         0.888654         0.433573            2.050           0.040\n",
            "L6.TPM         0.224398         0.619812            0.362           0.717\n",
            "L6.DES         0.272299         0.291320            0.935           0.350\n",
            "L6.INF        -0.534436         0.439885           -1.215           0.224\n",
            "L7.TPM         0.189560         0.621173            0.305           0.760\n",
            "L7.DES         0.368751         0.279858            1.318           0.188\n",
            "L7.INF        -0.569097         0.386812           -1.471           0.141\n",
            "L8.TPM         0.423234         0.399433            1.060           0.289\n",
            "L8.DES         0.868537         0.316838            2.741           0.006\n",
            "L8.INF         0.304237         0.227985            1.334           0.182\n",
            "=========================================================================\n",
            "\n",
            "Correlation matrix of residuals\n",
            "            TPM       DES       INF\n",
            "TPM    1.000000  0.468528  0.702258\n",
            "DES    0.468528  1.000000  0.155774\n",
            "INF    0.702258  0.155774  1.000000\n",
            "\n",
            "\n",
            "\n",
            "El modelo VAR es estable: False\n"
          ]
        }
      ]
    },
    {
      "cell_type": "markdown",
      "source": [
        "Ajuste del modelo VAR con 1 rezago (según SBIC) y evaluación de la estabilidad:"
      ],
      "metadata": {
        "id": "cP08Nwl_yTBN"
      }
    },
    {
      "cell_type": "code",
      "source": [
        "# Ajuste del modelo VAR con 1 rezago\n",
        "var_model_1 = model.fit(maxlags=1)\n",
        "print(var_model_1.summary())\n",
        "\n",
        "# Evaluación de la estabilidad\n",
        "is_stable_1 = var_model_1.is_stable()\n",
        "print(\"El modelo VAR con 1 rezago es estable:\", is_stable_1)\n"
      ],
      "metadata": {
        "colab": {
          "base_uri": "https://localhost:8080/"
        },
        "id": "_yuRg01YycCj",
        "outputId": "c90d134c-026f-462c-a994-018df6147cb9"
      },
      "execution_count": null,
      "outputs": [
        {
          "output_type": "stream",
          "name": "stdout",
          "text": [
            "  Summary of Regression Results   \n",
            "==================================\n",
            "Model:                         VAR\n",
            "Method:                        OLS\n",
            "Date:           Sun, 30, Jun, 2024\n",
            "Time:                     06:19:09\n",
            "--------------------------------------------------------------------\n",
            "No. of Equations:         3.00000    BIC:                   -1.30823\n",
            "Nobs:                     38.0000    HQIC:                  -1.64137\n",
            "Log likelihood:          -115.077    FPE:                   0.161539\n",
            "AIC:                     -1.82536    Det(Omega_mle):        0.119641\n",
            "--------------------------------------------------------------------\n",
            "Results for equation TPM\n",
            "=========================================================================\n",
            "            coefficient       std. error           t-stat            prob\n",
            "-------------------------------------------------------------------------\n",
            "const          2.283015         0.964709            2.367           0.018\n",
            "L1.TPM         0.753344         0.094732            7.952           0.000\n",
            "L1.DES        -0.164184         0.095631           -1.717           0.086\n",
            "L1.INF         0.091461         0.066679            1.372           0.170\n",
            "=========================================================================\n",
            "\n",
            "Results for equation DES\n",
            "=========================================================================\n",
            "            coefficient       std. error           t-stat            prob\n",
            "-------------------------------------------------------------------------\n",
            "const          2.305098         1.265450            1.822           0.069\n",
            "L1.TPM         0.243080         0.124264            1.956           0.050\n",
            "L1.DES         0.708101         0.125443            5.645           0.000\n",
            "L1.INF        -0.127775         0.087466           -1.461           0.144\n",
            "=========================================================================\n",
            "\n",
            "Results for equation INF\n",
            "=========================================================================\n",
            "            coefficient       std. error           t-stat            prob\n",
            "-------------------------------------------------------------------------\n",
            "const         -0.062819         1.589070           -0.040           0.968\n",
            "L1.TPM         0.119353         0.156042            0.765           0.444\n",
            "L1.DES        -0.003921         0.157524           -0.025           0.980\n",
            "L1.INF         0.827842         0.109834            7.537           0.000\n",
            "=========================================================================\n",
            "\n",
            "Correlation matrix of residuals\n",
            "            TPM       DES       INF\n",
            "TPM    1.000000 -0.003374  0.307149\n",
            "DES   -0.003374  1.000000 -0.031718\n",
            "INF    0.307149 -0.031718  1.000000\n",
            "\n",
            "\n",
            "\n",
            "El modelo VAR con 1 rezago es estable: True\n"
          ]
        }
      ]
    },
    {
      "cell_type": "markdown",
      "source": [
        "## Equivalencia con SUR y MCO"
      ],
      "metadata": {
        "id": "tr_bc6qYyWqO"
      }
    },
    {
      "cell_type": "markdown",
      "source": [
        "Equivalencia con SUR:"
      ],
      "metadata": {
        "id": "iujgosxHyg3I"
      }
    },
    {
      "cell_type": "code",
      "source": [
        "!pip install statsmodels==0.10.2"
      ],
      "metadata": {
        "colab": {
          "base_uri": "https://localhost:8080/"
        },
        "id": "CKHpEpJizwHp",
        "outputId": "6b601969-9a1c-4db4-9c5c-d36740424af1"
      },
      "execution_count": null,
      "outputs": [
        {
          "output_type": "stream",
          "name": "stdout",
          "text": [
            "Collecting statsmodels==0.10.2\n",
            "  Downloading statsmodels-0.10.2.tar.gz (14.1 MB)\n",
            "\u001b[2K     \u001b[90m━━━━━━━━━━━━━━━━━━━━━━━━━━━━━━━━━━━━━━━━\u001b[0m \u001b[32m14.1/14.1 MB\u001b[0m \u001b[31m44.3 MB/s\u001b[0m eta \u001b[36m0:00:00\u001b[0m\n",
            "\u001b[?25h  \u001b[1;31merror\u001b[0m: \u001b[1msubprocess-exited-with-error\u001b[0m\n",
            "  \n",
            "  \u001b[31m×\u001b[0m \u001b[32mpython setup.py egg_info\u001b[0m did not run successfully.\n",
            "  \u001b[31m│\u001b[0m exit code: \u001b[1;36m1\u001b[0m\n",
            "  \u001b[31m╰─>\u001b[0m See above for output.\n",
            "  \n",
            "  \u001b[1;35mnote\u001b[0m: This error originates from a subprocess, and is likely not a problem with pip.\n",
            "  Preparing metadata (setup.py) ... \u001b[?25l\u001b[?25herror\n",
            "\u001b[1;31merror\u001b[0m: \u001b[1mmetadata-generation-failed\u001b[0m\n",
            "\n",
            "\u001b[31m×\u001b[0m Encountered error while generating package metadata.\n",
            "\u001b[31m╰─>\u001b[0m See above for output.\n",
            "\n",
            "\u001b[1;35mnote\u001b[0m: This is an issue with the package mentioned above, not pip.\n",
            "\u001b[1;36mhint\u001b[0m: See above for details.\n"
          ]
        }
      ]
    },
    {
      "cell_type": "code",
      "source": [
        "import statsmodels.api as sm\n",
        "from statsmodels.sandbox.sysreg import SUR, Sem2SLS\n",
        "\n",
        "# Preparar datos para SUR\n",
        "df_lagged = df.shift(1).dropna()\n",
        "X = sm.add_constant(df_lagged[['DES', 'INF', 'TPM']])\n",
        "y = df[1:]\n",
        "\n",
        "# Ajuste del modelo SUR\n",
        "sur_model = SUR([sm.OLS(y[col], X) for col in y.columns]).fit()\n",
        "print(sur_model.summary())\n"
      ],
      "metadata": {
        "colab": {
          "base_uri": "https://localhost:8080/",
          "height": 315
        },
        "id": "bxtHzL4myicV",
        "outputId": "c7f52332-7d76-4a75-df4d-1a41d78985b2"
      },
      "execution_count": null,
      "outputs": [
        {
          "output_type": "error",
          "ename": "ValueError",
          "evalue": "sys must be a list of pairs of endogenous and exogenous variables.  Got length 3",
          "traceback": [
            "\u001b[0;31m---------------------------------------------------------------------------\u001b[0m",
            "\u001b[0;31mValueError\u001b[0m                                Traceback (most recent call last)",
            "\u001b[0;32m<ipython-input-17-810a340aed0c>\u001b[0m in \u001b[0;36m<cell line: 10>\u001b[0;34m()\u001b[0m\n\u001b[1;32m      8\u001b[0m \u001b[0;34m\u001b[0m\u001b[0m\n\u001b[1;32m      9\u001b[0m \u001b[0;31m# Ajuste del modelo SUR\u001b[0m\u001b[0;34m\u001b[0m\u001b[0;34m\u001b[0m\u001b[0m\n\u001b[0;32m---> 10\u001b[0;31m \u001b[0msur_model\u001b[0m \u001b[0;34m=\u001b[0m \u001b[0mSUR\u001b[0m\u001b[0;34m(\u001b[0m\u001b[0;34m[\u001b[0m\u001b[0msm\u001b[0m\u001b[0;34m.\u001b[0m\u001b[0mOLS\u001b[0m\u001b[0;34m(\u001b[0m\u001b[0my\u001b[0m\u001b[0;34m[\u001b[0m\u001b[0mcol\u001b[0m\u001b[0;34m]\u001b[0m\u001b[0;34m,\u001b[0m \u001b[0mX\u001b[0m\u001b[0;34m)\u001b[0m \u001b[0;32mfor\u001b[0m \u001b[0mcol\u001b[0m \u001b[0;32min\u001b[0m \u001b[0my\u001b[0m\u001b[0;34m.\u001b[0m\u001b[0mcolumns\u001b[0m\u001b[0;34m]\u001b[0m\u001b[0;34m)\u001b[0m\u001b[0;34m.\u001b[0m\u001b[0mfit\u001b[0m\u001b[0;34m(\u001b[0m\u001b[0;34m)\u001b[0m\u001b[0;34m\u001b[0m\u001b[0;34m\u001b[0m\u001b[0m\n\u001b[0m\u001b[1;32m     11\u001b[0m \u001b[0mprint\u001b[0m\u001b[0;34m(\u001b[0m\u001b[0msur_model\u001b[0m\u001b[0;34m.\u001b[0m\u001b[0msummary\u001b[0m\u001b[0;34m(\u001b[0m\u001b[0;34m)\u001b[0m\u001b[0;34m)\u001b[0m\u001b[0;34m\u001b[0m\u001b[0;34m\u001b[0m\u001b[0m\n",
            "\u001b[0;32m/usr/local/lib/python3.10/dist-packages/statsmodels/sandbox/sysreg.py\u001b[0m in \u001b[0;36m__init__\u001b[0;34m(self, sys, sigma, dfk)\u001b[0m\n\u001b[1;32m     92\u001b[0m     \u001b[0;32mdef\u001b[0m \u001b[0m__init__\u001b[0m\u001b[0;34m(\u001b[0m\u001b[0mself\u001b[0m\u001b[0;34m,\u001b[0m \u001b[0msys\u001b[0m\u001b[0;34m,\u001b[0m \u001b[0msigma\u001b[0m\u001b[0;34m=\u001b[0m\u001b[0;32mNone\u001b[0m\u001b[0;34m,\u001b[0m \u001b[0mdfk\u001b[0m\u001b[0;34m=\u001b[0m\u001b[0;32mNone\u001b[0m\u001b[0;34m)\u001b[0m\u001b[0;34m:\u001b[0m\u001b[0;34m\u001b[0m\u001b[0;34m\u001b[0m\u001b[0m\n\u001b[1;32m     93\u001b[0m         \u001b[0;32mif\u001b[0m \u001b[0mlen\u001b[0m\u001b[0;34m(\u001b[0m\u001b[0msys\u001b[0m\u001b[0;34m)\u001b[0m \u001b[0;34m%\u001b[0m \u001b[0;36m2\u001b[0m \u001b[0;34m!=\u001b[0m \u001b[0;36m0\u001b[0m\u001b[0;34m:\u001b[0m\u001b[0;34m\u001b[0m\u001b[0;34m\u001b[0m\u001b[0m\n\u001b[0;32m---> 94\u001b[0;31m             raise ValueError(\"sys must be a list of pairs of endogenous and \\\n\u001b[0m\u001b[1;32m     95\u001b[0m exogenous variables.  Got length %s\" % len(sys))\n\u001b[1;32m     96\u001b[0m         \u001b[0;32mif\u001b[0m \u001b[0mdfk\u001b[0m\u001b[0;34m:\u001b[0m\u001b[0;34m\u001b[0m\u001b[0;34m\u001b[0m\u001b[0m\n",
            "\u001b[0;31mValueError\u001b[0m: sys must be a list of pairs of endogenous and exogenous variables.  Got length 3"
          ]
        }
      ]
    },
    {
      "cell_type": "markdown",
      "source": [
        "Equivalencia con MCO ecuación por ecuación:"
      ],
      "metadata": {
        "id": "O9bXqQH3ymi5"
      }
    },
    {
      "cell_type": "code",
      "source": [
        "# MCO ecuación por ecuación\n",
        "for col in y.columns:\n",
        "    ols_model = sm.OLS(y[col], X).fit()\n",
        "    print(f\"Regresión de {col}:\")\n",
        "    print(ols_model.summary())\n",
        "    print(\"\\n\")\n"
      ],
      "metadata": {
        "colab": {
          "base_uri": "https://localhost:8080/",
          "height": 211
        },
        "id": "AqCjaZvkyojl",
        "outputId": "0f779de1-97c4-4bfb-f564-c7ef11f8fbf3"
      },
      "execution_count": null,
      "outputs": [
        {
          "output_type": "error",
          "ename": "NameError",
          "evalue": "name 'y' is not defined",
          "traceback": [
            "\u001b[0;31m---------------------------------------------------------------------------\u001b[0m",
            "\u001b[0;31mNameError\u001b[0m                                 Traceback (most recent call last)",
            "\u001b[0;32m<ipython-input-10-6bcdebecd482>\u001b[0m in \u001b[0;36m<cell line: 2>\u001b[0;34m()\u001b[0m\n\u001b[1;32m      1\u001b[0m \u001b[0;31m# MCO ecuación por ecuación\u001b[0m\u001b[0;34m\u001b[0m\u001b[0;34m\u001b[0m\u001b[0m\n\u001b[0;32m----> 2\u001b[0;31m \u001b[0;32mfor\u001b[0m \u001b[0mcol\u001b[0m \u001b[0;32min\u001b[0m \u001b[0my\u001b[0m\u001b[0;34m.\u001b[0m\u001b[0mcolumns\u001b[0m\u001b[0;34m:\u001b[0m\u001b[0;34m\u001b[0m\u001b[0;34m\u001b[0m\u001b[0m\n\u001b[0m\u001b[1;32m      3\u001b[0m     \u001b[0mols_model\u001b[0m \u001b[0;34m=\u001b[0m \u001b[0msm\u001b[0m\u001b[0;34m.\u001b[0m\u001b[0mOLS\u001b[0m\u001b[0;34m(\u001b[0m\u001b[0my\u001b[0m\u001b[0;34m[\u001b[0m\u001b[0mcol\u001b[0m\u001b[0;34m]\u001b[0m\u001b[0;34m,\u001b[0m \u001b[0mX\u001b[0m\u001b[0;34m)\u001b[0m\u001b[0;34m.\u001b[0m\u001b[0mfit\u001b[0m\u001b[0;34m(\u001b[0m\u001b[0;34m)\u001b[0m\u001b[0;34m\u001b[0m\u001b[0;34m\u001b[0m\u001b[0m\n\u001b[1;32m      4\u001b[0m     \u001b[0mprint\u001b[0m\u001b[0;34m(\u001b[0m\u001b[0;34mf\"Regresión de {col}:\"\u001b[0m\u001b[0;34m)\u001b[0m\u001b[0;34m\u001b[0m\u001b[0;34m\u001b[0m\u001b[0m\n\u001b[1;32m      5\u001b[0m     \u001b[0mprint\u001b[0m\u001b[0;34m(\u001b[0m\u001b[0mols_model\u001b[0m\u001b[0;34m.\u001b[0m\u001b[0msummary\u001b[0m\u001b[0;34m(\u001b[0m\u001b[0;34m)\u001b[0m\u001b[0;34m)\u001b[0m\u001b[0;34m\u001b[0m\u001b[0;34m\u001b[0m\u001b[0m\n",
            "\u001b[0;31mNameError\u001b[0m: name 'y' is not defined"
          ]
        }
      ]
    },
    {
      "cell_type": "markdown",
      "source": [
        "<a href=\"https://colab.research.google.com/github/juanandres-montero/macroeconometria/blob/main/Laboratorio_09_Cambio_Estructural.ipynb\">Siguiente laboratorio>>></a>"
      ],
      "metadata": {
        "id": "hQhzmtOL0uZB"
      }
    }
  ]
}