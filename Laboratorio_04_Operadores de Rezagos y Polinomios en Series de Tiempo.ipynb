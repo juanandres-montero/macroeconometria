{
 "cells": [
  {
   "cell_type": "markdown",
   "id": "dfaa3f01-1cae-4c4d-9beb-dec00736e00c",
   "metadata": {
    "slideshow": {
     "slide_type": "slide"
    },
    "tags": []
   },
   "source": [
    "<center>\n",
    "    <img src=\"https://github.com/juanandres-montero/macroeconometria/blob/main/logo%20EEC%20grande.png?raw=1\" width=\"396\" height=\"161\"><br>\n",
    "    <b style=\"font-size:200%\">EC4301 MACROECONOMETRÍA</b><br>\n",
    "    <b style=\"font-size:100%\">Asistente: Juan Andrés Montero</b><br><br>\n",
    "    <b style=\"font-size:100%\"> Laboratorio #4:</b>\n",
    "    <br>    \n",
    "    <div style=\"font-size:150%; color:white; background-color: #0064b0; padding-top: 20px; padding-bottom: 20px; width: 50%; margin: 0 auto; border-radius: 15px;\">\n",
    "        Operadores de Rezagos y Polinomios en Series de Tiempo\n",
    "    </div>\n",
    "</center>\n",
    "\n",
    "<br>\n",
    "\n",
    "<i style=\"font-size:80%\"> \n",
    "    Creado: Setiembre 2024\n",
    "</i>\n",
    "\n",
    "<hr>"
   ]
  },
  {
   "cell_type": "markdown",
   "id": "42d8a657-40ba-45e8-b778-853d4ec91e83",
   "metadata": {
    "slideshow": {
     "slide_type": "slide"
    }
   },
   "source": [
    "## Operador de rezagos\n",
    "\n",
    "El operador de rezagos \\(L\\) es una función que toma los valores de una serie de tiempo y devuelve el valor del periodo inmediatamente anterior:\n",
    "\n",
    "$$\n",
    "Lx_t = x_{t-1}\n",
    "$$\n",
    "\n",
    "Estrictamente, definimos:\n",
    "\n",
    "$$\n",
    "L^0 = 1\n",
    "$$\n",
    "\n",
    "$$\n",
    "L^k x_t = x_{t-k}\n",
    "$$\n"
   ]
  },
  {
   "cell_type": "markdown",
   "id": "7cf72933-c71b-4ea5-9160-37eb20129782",
   "metadata": {
    "slideshow": {
     "slide_type": "slide"
    }
   },
   "source": [
    "## Propiedades del operador de rezagos\n",
    "\n",
    "Note que:\n",
    "\n",
    "$$\n",
    "(1 - L)x_t = x_t - x_{t-1}\n",
    "$$\n",
    "\n",
    "Además:\n",
    "\n",
    "$$\n",
    "L\\beta = \\beta\n",
    "$$\n",
    "\n",
    "En general, los operadores de rezagos poseen todas las propiedades aritméticas usuales.\n"
   ]
  },
  {
   "cell_type": "markdown",
   "id": "899c0f3e-ba38-49e7-96de-0f68f9770861",
   "metadata": {
    "slideshow": {
     "slide_type": "slide"
    }
   },
   "source": [
    "## Polinomios de rezagos\n",
    "\n",
    "Podemos definir un polinomio de rezagos como sigue:\n",
    "\n",
    "$$\n",
    "(1 + \\phi_1L + \\phi_2L^2 + \\cdots + \\phi_pL^p)x_t = x_t + \\phi_1x_{t-1} + \\phi_2x_{t-2} + \\cdots + \\phi_p x_{t-p}\n",
    "$$"
   ]
  },
  {
   "cell_type": "markdown",
   "id": "73c0857e-7aa7-4dfc-9e8f-8a0f03138f8d",
   "metadata": {
    "slideshow": {
     "slide_type": "slide"
    }
   },
   "source": [
    "## ¿Cómo invertir un polinomio de rezagos?\n",
    "\n",
    "Primero, considere que:\n",
    "\n",
    "$$\n",
    "(1 - \\phi L)(1 + \\phi L + \\phi^2 L^2 + \\cdots + \\phi^k L^k)x_t = (1 - \\phi^{k+1} L^{k+1}) x_t = x_t - \\phi^{k+1} x_{t-k-1}\n",
    "$$\n"
   ]
  },
  {
   "cell_type": "markdown",
   "id": "0f29b56c-2c33-4dfa-83c1-54f077c91fa1",
   "metadata": {
    "slideshow": {
     "slide_type": "slide"
    }
   },
   "source": [
    "## Condición para invertir\n",
    "\n",
    "De este modo, si $|\\phi| < 1$:\n",
    "\n",
    "$$\n",
    "\\lim_{k \\to \\infty} \\phi^{k+1} x_{t-k-1} = 0\n",
    "$$\n",
    "\n",
    "Y, por tanto:\n",
    "\n",
    "$$\n",
    "(1 - \\phi)(1 + \\phi L + \\phi^2 L^2 + \\cdots)x_t  = x_t\n",
    "$$"
   ]
  },
  {
   "cell_type": "markdown",
   "id": "393ca15d-6871-4c79-a7d2-5740bee5d1e6",
   "metadata": {
    "slideshow": {
     "slide_type": "slide"
    }
   },
   "source": [
    "## Conclusión de la inversión\n",
    "\n",
    "Así que concluimos:\n",
    "\n",
    "$$\n",
    "(1 - \\phi)^{-1} = 1 + \\phi L + \\phi^2 L^2 + \\cdots\n",
    "$$\n"
   ]
  },
  {
   "cell_type": "markdown",
   "id": "6db1ae4e-a4bb-4e04-af67-6fc2db495007",
   "metadata": {
    "slideshow": {
     "slide_type": "slide"
    }
   },
   "source": [
    "## Polinomio de rezagos general\n",
    "\n",
    "Volvamos al caso general del polinomio de rezagos:\n",
    "\n",
    "$$\n",
    "\\Phi(L) = 1 + \\phi_1 L + \\phi_2 L^2 + \\cdots + \\phi_p L^p\n",
    "$$\n",
    "\n",
    "Del Teorema Fundamental del Álgebra, sabemos que existe una factorización:\n",
    "\n",
    "$$\n",
    "\\Phi(L) = (1 - \\lambda_1 L)(1 - \\lambda_2 L) \\cdots (1 - \\lambda_p L)\n",
    "$$\n",
    "> El Teorema Fundamental del Algebra (TFA) dice que todo polinomio a coeficientes complejos tiene un raíz compleja, es decir existe un número complejo donde el polinomio evalua a cero"
   ]
  },
  {
   "cell_type": "markdown",
   "id": "fea7acd6-87fb-4810-9036-a61a0b5bf63c",
   "metadata": {
    "slideshow": {
     "slide_type": "slide"
    }
   },
   "source": [
    "## Inversión de $\\Phi(L)$\n",
    "\n",
    "En consecuencia:\n",
    "\n",
    "$$\n",
    "\\Phi^{-1}(L) = (1 - \\lambda_1 L)^{-1}(1 - \\lambda_2 L)^{-1} \\cdots (1 - \\lambda_p L)^{-1}\n",
    "$$"
   ]
  },
  {
   "cell_type": "markdown",
   "id": "f58b3efb-37e1-4d8a-a0c8-1d21ff818090",
   "metadata": {
    "slideshow": {
     "slide_type": "slide"
    }
   },
   "source": [
    "## Expansión de la inversión\n",
    "\n",
    "La inversión puede expandirse como:\n",
    "\n",
    "$$\n",
    "= (1 + \\lambda_1 L + \\lambda_1^2 L^2 + \\cdots)(1 + \\lambda_2 L + \\lambda_2^2 L^2 + \\cdots) \\cdots (1 + \\lambda_p L + \\lambda_p^2 L^2 + \\cdots)\n",
    "$$\n",
    "\n",
    "> El AR(P) es invertible si sus raíces características son menores a 1"
   ]
  },
  {
   "cell_type": "markdown",
   "id": "5b6218ce",
   "metadata": {
    "slideshow": {
     "slide_type": "slide"
    }
   },
   "source": [
    "# Sobre los tipos de datos\n",
    "\n",
    "![Corte transversal](https://image1.slideserve.com/2256518/datos-de-corte-transversal-l.jpg)"
   ]
  },
  {
   "cell_type": "markdown",
   "id": "14bdb69e",
   "metadata": {
    "slideshow": {
     "slide_type": "slide"
    }
   },
   "source": [
    "![Serie de tiempo](https://image1.slideserve.com/2256518/datos-de-serie-de-tiempo-l.jpg)"
   ]
  },
  {
   "cell_type": "markdown",
   "id": "f5b25b61",
   "metadata": {
    "slideshow": {
     "slide_type": "slide"
    }
   },
   "source": [
    "![Serie de tiempo](https://image1.slideserve.com/2256518/datos-panel-l.jpg)\n"
   ]
  }
 ],
 "metadata": {
  "celltoolbar": "Slideshow",
  "kernelspec": {
   "display_name": "Python 3 (ipykernel)",
   "language": "python",
   "name": "python3"
  },
  "language_info": {
   "codemirror_mode": {
    "name": "ipython",
    "version": 3
   },
   "file_extension": ".py",
   "mimetype": "text/x-python",
   "name": "python",
   "nbconvert_exporter": "python",
   "pygments_lexer": "ipython3",
   "version": "3.11.4"
  },
  "toc": {
   "base_numbering": 1,
   "nav_menu": {},
   "number_sections": true,
   "sideBar": true,
   "skip_h1_title": false,
   "title_cell": "Table of Contents",
   "title_sidebar": "Contents",
   "toc_cell": false,
   "toc_position": {},
   "toc_section_display": true,
   "toc_window_display": false
  }
 },
 "nbformat": 4,
 "nbformat_minor": 5
}
