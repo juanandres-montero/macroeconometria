{
 "cells": [
  {
   "cell_type": "markdown",
   "id": "dfaa3f01-1cae-4c4d-9beb-dec00736e00c",
   "metadata": {
    "slideshow": {
     "slide_type": "slide"
    },
    "tags": []
   },
   "source": [
    "<center>\n",
    "    <img src=\"https://github.com/juanandres-montero/macroeconometria/blob/main/logo%20EEC%20grande.png?raw=1\" width=\"396\" height=\"161\"><br>\n",
    "    <b style=\"font-size:200%\">EC4301 MACROECONOMETRÍA</b><br>\n",
    "    <b style=\"font-size:100%\">Asistente: Juan Andrés Montero</b><br><br>\n",
    "    <b style=\"font-size:100%\"> Laboratorio #5:</b>\n",
    "    <br>    \n",
    "    <div style=\"font-size:150%; color:white; background-color: #0064b0; padding-top: 20px; padding-bottom: 20px; width: 50%; margin: 0 auto; border-radius: 15px;\">\n",
    "        AR, MA y Repaso de ejercicios I Parcial EC4301\n",
    "    </div>\n",
    "</center>\n",
    "\n",
    "<br>\n",
    "\n",
    "<i style=\"font-size:80%\"> \n",
    "    Creado: Setiembre 2024\n",
    "</i>\n",
    "\n",
    "<hr>"
   ]
  },
  {
   "cell_type": "markdown",
   "id": "3b0787e4-4f96-4d11-ae15-c3c7c8399042",
   "metadata": {},
   "source": [
    "# El Proceso MA(1)\n",
    "---\n",
    "Un proceso MA(1) (Media Móvil de orden 1) se define como:\n",
    "\n",
    "$$\n",
    "y_t = \\theta \\varepsilon_{t-1} + \\varepsilon_t\n",
    "$$\n",
    "\n",
    "donde $\\varepsilon_t$ es ruido blanco gaussiano con:\n",
    "\n",
    "$$\n",
    "\\varepsilon_t \\sim N(0, \\sigma_{\\varepsilon}^2)\n",
    "$$\n",
    "\n",
    "---"
   ]
  },
  {
   "cell_type": "markdown",
   "id": "e3d3bd9e-cf9a-43d6-b622-9c75ece48787",
   "metadata": {},
   "source": [
    "# Propiedades del Proceso MA(1)\n",
    "---\n",
    "### Media:\n",
    "$$\n",
    "E[y_t] = 0\n",
    "$$\n",
    "\n",
    "### Varianza:\n",
    "$$\n",
    "Var[y_t] = (1 + \\theta^2) \\sigma_{\\varepsilon}^2\n",
    "$$\n",
    "\n",
    "\n",
    "### Covarianza:\n",
    "$$\n",
    "Cov[y_t, y_{t-s}] = \\begin{cases} \n",
    "\\theta \\sigma_{\\varepsilon}^2 & \\text{si } s = 1 \\\\\n",
    "0 & \\text{si } s > 1\n",
    "\\end{cases}\n",
    "$$\n",
    "\n",
    "---\n"
   ]
  },
  {
   "cell_type": "markdown",
   "id": "fc482475-3ff7-42cb-80fd-23c376168831",
   "metadata": {},
   "source": [
    "# Efecto Yule-Slutsky\n",
    "---\n",
    "Al tomar la media móvil de una variable aleatoria sin relación intertemporal, se puede generar un proceso con relación intertemporal.\n",
    "\n",
    "En el caso del MA(1), se demuestra que:\n",
    "\n",
    "$$\n",
    "Corr[y_t, y_{t-1}] = \\frac{\\theta}{1 + \\theta^2} \\neq 0\n",
    "$$\n",
    "\n",
    "Esto muestra cómo el proceso introduce correlación en los datos.\n",
    "\n",
    "(El procedimiento del MA(1) lo he desarrollado en este [**documento**](https://github.com/juanandres-montero/macroeconometria/raw/main/Laboratorios%20en%20pdf/AR(1)%20y%20MA(1).pdf) para no extender más la presentación)\n",
    "\n",
    "---\n"
   ]
  },
  {
   "cell_type": "markdown",
   "id": "cd10c4e5-ecca-4664-9bce-3d30c3ea0467",
   "metadata": {
    "jp-MarkdownHeadingCollapsed": true
   },
   "source": [
    "# El Proceso AR(1)\n",
    "---\n",
    "Un proceso AR(1) (Auto-Regresivo de orden 1) se define como:\n",
    "\n",
    "$$\n",
    "y_t = \\phi y_{t-1} + \\varepsilon_t\n",
    "$$\n",
    "\n",
    "donde $\\varepsilon_t$ es ruido blanco gaussiano con:\n",
    "\n",
    "$$\n",
    "\\varepsilon_t \\sim N(0, \\sigma_{\\varepsilon}^2)\n",
    "$$\n",
    "\n",
    "y $\\phi$ es el coeficiente autorregresivo que indica la persistencia del proceso.\n",
    "\n",
    "---"
   ]
  },
  {
   "cell_type": "markdown",
   "id": "f6af4e71-ba4b-4062-969d-34205a33eebc",
   "metadata": {},
   "source": [
    "# Propiedades del Proceso AR(1)\n",
    "---\n",
    "### Media:\n",
    "$$\n",
    "E[y_t] = 0 \\quad \\text{si } |\\phi| < 1\n",
    "$$\n",
    "\n",
    "### Varianza:\n",
    "$$\n",
    "Var[y_t] = \\frac{\\sigma_{\\varepsilon}^2}{1 - \\phi^2} \\quad \\text{si } |\\phi| < 1\n",
    "$$\n",
    "\n",
    "### Covarianza:\n",
    "$$\n",
    "Cov[y_t, y_{t-s}] = \\phi^s \\cdot \\frac{\\sigma_{\\varepsilon}^2}{1 - \\phi^2}\n",
    "$$\n",
    "donde $s$ es el desfase (lag) entre los periodos $t$ y $t-s$.\n",
    "\n",
    "---"
   ]
  },
  {
   "cell_type": "markdown",
   "id": "985f58b8-0ffd-4cdb-983a-5802af28b035",
   "metadata": {},
   "source": [
    "---\n",
    "El proceso AR(1) introduce autocorrelación en los datos debido a la dependencia de $y_t$ respecto de $y_{t-1}$.\n",
    "\n",
    "La correlación entre $y_t$ y $y_{t-1}$ es:\n",
    "\n",
    "$$\n",
    "Corr[y_t, y_{t-1}] = \\phi\n",
    "$$\n",
    "\n",
    "Esto muestra que, a diferencia de un proceso de ruido blanco, en un AR(1) la observación en un periodo está correlacionada con la observación del periodo anterior, lo que introduce estructura en los datos.\n",
    "\n",
    "(El procedimiento del AR(1) lo he desarrollado en este [**documento**](https://github.com/juanandres-montero/macroeconometria/raw/main/Laboratorios%20en%20pdf/AR(1)%20y%20MA(1).pdf) para no extender más la presentación)\n",
    "\n",
    "---"
   ]
  },
  {
   "cell_type": "markdown",
   "id": "4a14cc09",
   "metadata": {},
   "source": [
    "# Práctica I Parcial EC4301\n",
    "---\n"
   ]
  },
  {
   "cell_type": "markdown",
   "id": "2f1ddd1a",
   "metadata": {},
   "source": [
    "# Pregunta 1: Estimador de Máxima Verosimilitud\n",
    "---\n",
    "Para una distribución de Pareto:\n",
    "\n",
    "$$\n",
    "f(x, k, x_0) = \\frac{k x_0^k}{x_i^{k+1}} \\text{ para } x \\geq x_0\n",
    "$$\n",
    "Con $x_0 >0$\n",
    "\n",
    "El estimador de máxima verosimilitud de $k$ es...\n",
    "\n",
    "---\n"
   ]
  },
  {
   "cell_type": "markdown",
   "id": "60b0d2b3",
   "metadata": {
    "jp-MarkdownHeadingCollapsed": true
   },
   "source": [
    "# Pregunta 2: Probabilidad de Éxito\n",
    "---\n",
    "Para un experimento con resultados binarios (éxito o fracaso):\n",
    "\n",
    "$$\n",
    "P(X = 1) = p, \\quad P(X = 0) = 1 - p\n",
    "$$\n",
    "\n",
    "El estimador de máxima verosimilitud de $$p$$ es:\n",
    "\n",
    "$$\n",
    "\\hat{p}_{ML} = \\frac{\\sum X_i}{n}\n",
    "$$\n",
    "\n",
    "---\n"
   ]
  },
  {
   "cell_type": "markdown",
   "id": "927259ef",
   "metadata": {},
   "source": [
    "# Pregunta 3: Varianza del Estimador\n",
    "---\n",
    "Para una distribución con función de densidad:\n",
    "\n",
    "$$\n",
    "f(x, \\theta) = \\frac{\\theta^x e^{-\\theta}}{x!}\n",
    "$$\n",
    "\n",
    "La varianza del estimador de máxima verosimilitud $$\\hat{\\theta}_{ML}$$ es...\n",
    "\n",
    "---\n"
   ]
  },
  {
   "cell_type": "markdown",
   "id": "d2b1088c",
   "metadata": {
    "jp-MarkdownHeadingCollapsed": true
   },
   "source": [
    "# Pregunta 6: Sistemas de Ecuaciones Simultáneas\n",
    "---\n",
    "Dado el sistema de ecuaciones simultáneas:\n",
    "\n",
    "1. $$Y_t = \\alpha_0 + \\alpha_1 Y_{t-1} + \\alpha_2 I_t + u_{1t}$$\n",
    "2. $$I_t = \\beta_0 + \\beta_1 Y_t + \\beta_2 Q_t + u_{2t}$$\n",
    "3. $$C_t = \\gamma_0 + \\gamma_1 Y_t + \\gamma_2 Y_{t-1} + \\gamma_3 P_t + \\gamma_4 Q_{t-1} + u_{3t}$$\n",
    "4. $$Q_t = \\lambda_0 + \\lambda_1 Q_{t-1} + \\lambda_2 R_t + u_{4t}$$\n",
    "\n",
    "---\n"
   ]
  }
 ],
 "metadata": {
  "kernelspec": {
   "display_name": "Python 3 (ipykernel)",
   "language": "python",
   "name": "python3"
  },
  "language_info": {
   "codemirror_mode": {
    "name": "ipython",
    "version": 3
   },
   "file_extension": ".py",
   "mimetype": "text/x-python",
   "name": "python",
   "nbconvert_exporter": "python",
   "pygments_lexer": "ipython3",
   "version": "3.11.4"
  }
 },
 "nbformat": 4,
 "nbformat_minor": 5
}
