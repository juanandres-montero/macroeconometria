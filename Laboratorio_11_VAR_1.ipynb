{
 "cells": [
  {
   "cell_type": "markdown",
   "id": "591387c1",
   "metadata": {
    "editable": true,
    "slideshow": {
     "slide_type": "slide"
    },
    "tags": []
   },
   "source": [
    "<center>\n",
    "    <img src=\"https://github.com/juanandres-montero/macroeconometria/blob/main/logo%20EEC%20grande.png?raw=1\" width=\"396\" height=\"161\"><br>\n",
    "    <b style=\"font-size:200%\">EC4301 MACROECONOMETRÍA</b><br>\n",
    "    <b style=\"font-size:100%\">Asistente: Juan Andrés Montero</b><br><br>\n",
    "    <b style=\"font-size:100%\"> Laboratorio #11:</b>\n",
    "    <br>    \n",
    "    <div style=\"font-size:150%; color:white; background-color: #0064b0; padding-top: 20px; padding-bottom: 20px; width: 50%; margin: 0 auto; border-radius: 15px; text-align: center;\">\n",
    "        Vectores Autorregresivos (VAR)\n",
    "    </div>\n",
    "</center>\n",
    "\n",
    "<br>\n",
    "\n",
    "<i style=\"font-size:80%\"> \n",
    "    Creado: Noviembre 2024\n",
    "</i>\n",
    "\n",
    "<hr>"
   ]
  },
  {
   "cell_type": "markdown",
   "id": "462b6331",
   "metadata": {
    "editable": true,
    "slideshow": {
     "slide_type": "slide"
    },
    "tags": []
   },
   "source": [
    "# Resumen del laboratorio anterior\n",
    "\n",
    "- Test de McLeod-Li\n",
    "- Simulación de raíces unitarias con cambio estructural.\n",
    "- Análisis de los modelos de Perron (1989)"
   ]
  },
  {
   "cell_type": "markdown",
   "id": "729d69d8",
   "metadata": {
    "editable": true,
    "slideshow": {
     "slide_type": "slide"
    },
    "tags": []
   },
   "source": [
    "# **1. Componentes Clave de los Modelos VAR**\n",
    "\n",
    "Un modelo VAR(p) puede escribirse como:\n",
    "\n",
    "$Y_t = c + \\sum_{i=1}^p \\Phi_i Y_{t-i} + \\varepsilon_t$\n",
    "\n",
    "donde:\n",
    "- $Y_t$ es un vector de variables endógenas\n",
    "- $c$ es un vector de constantes\n",
    "- $\\Phi_i$ son matrices de coeficientes\n",
    "- $\\varepsilon_t$ es un vector de términos de error\n",
    "\n",
    "> 🤓 En los modelos VAR, todo depende de los valores pasados de todo lo demás. Es como una reunión con viajes en el tiempo."
   ]
  },
  {
   "cell_type": "markdown",
   "id": "67fe3025",
   "metadata": {
    "editable": true,
    "slideshow": {
     "slide_type": "slide"
    },
    "tags": []
   },
   "source": [
    "## **2. Ejemplo en Stata**\n",
    "\n",
    "Analizaremos las relaciones entre:\n",
    "- Desempleo (DES)\n",
    "- Inflación (INF)\n",
    "- Tasa de Política Monetaria (TPM)\n",
    "\n",
    "### Preparación de Datos\n",
    "```stata\n",
    "clear all\n",
    "import excel \"LAB_VAR.xlsx\", sheet(\"Hoja1\") firstrow\n",
    "\n",
    "* Convertir fechas de string a formato trimestral\n",
    "gen fecha = quarterly(TRIMESTRE, \"YQ\")\n",
    "format fecha %tq\n",
    "drop TRIMESTRE\n",
    "tsset fecha\n",
    "```"
   ]
  },
  {
   "cell_type": "markdown",
   "id": "fb5f5666",
   "metadata": {
    "editable": true,
    "slideshow": {
     "slide_type": "slide"
    },
    "tags": []
   },
   "source": [
    "## **3. Estimación del Modelo y Diagnósticos**\n",
    "\n",
    "### Selección de Rezagos\n",
    "```stata\n",
    "* Encontrar el número óptimo de rezagos (evaluando hasta 8)\n",
    "varsoc DES INF TPM, maxlag(8)\n",
    "```\n",
    "\n",
    "### Estimación Básica del VAR\n",
    "```stata\n",
    "* Estimación del VAR con el rezago seleccionado\n",
    "varbasic DES INF TPM, lags(1/1) nograph\n",
    "\n",
    "* Verificación de estabilidad\n",
    "varstable, graph\n",
    "```"
   ]
  },
  {
   "cell_type": "markdown",
   "id": "7fd96be6",
   "metadata": {
    "editable": true,
    "slideshow": {
     "slide_type": "slide"
    },
    "tags": []
   },
   "source": [
    "## **4. Métodos Alternativos de Estimación**\n",
    "\n",
    "### 1. Como una Regresión Aparentemente No Relacionada (SUR):\n",
    "```stata\n",
    "sureg (DES L.DES L.INF L.TPM) ///\n",
    "      (INF L.DES L.INF L.TPM) ///\n",
    "      (TPM L.DES L.INF L.TPM)\n",
    "```\n",
    "\n",
    "### 2. Ecuación por ecuación usando MCO:\n",
    "```stata\n",
    "regress DES L.DES L.INF L.TPM \n",
    "regress INF L.DES L.INF L.TPM\n",
    "regress TPM L.DES L.INF L.TPM\n",
    "```"
   ]
  },
  {
   "cell_type": "markdown",
   "id": "8fd96be7",
   "metadata": {
    "editable": true,
    "slideshow": {
     "slide_type": "slide"
    },
    "tags": []
   },
   "source": [
    "## **5. Errores Comunes a Evitar**\n",
    "\n",
    "1. **Sobreparametrización**: Evite muchos rezagos, pueden afectar los grados de libertad.\n",
    "2. **Trampas de Interpretación**: Correlación ≠ Causalidad (incluso en VARs sofisticados)\n",
    "3. **Problemas de Estabilidad**: Un VAR inestable no es útil para explicar el modelo."
   ]
  }
 ],
 "metadata": {
  "kernelspec": {
   "display_name": "Python 3 (ipykernel)",
   "language": "python",
   "name": "python3"
  },
  "language_info": {
   "codemirror_mode": {
    "name": "ipython",
    "version": 3
   },
   "file_extension": ".py",
   "mimetype": "text/x-python",
   "name": "python",
   "nbconvert_exporter": "python",
   "pygments_lexer": "ipython3",
   "version": "3.11.4"
  }
 },
 "nbformat": 4,
 "nbformat_minor": 5
}
