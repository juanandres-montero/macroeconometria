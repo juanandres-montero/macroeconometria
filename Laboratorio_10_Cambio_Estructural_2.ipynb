{
 "cells": [
  {
   "cell_type": "markdown",
   "id": "591387c1",
   "metadata": {
    "editable": true,
    "slideshow": {
     "slide_type": "slide"
    },
    "tags": []
   },
   "source": [
    "<center>\n",
    "    <img src=\"https://github.com/juanandres-montero/macroeconometria/blob/main/logo%20EEC%20grande.png?raw=1\" width=\"396\" height=\"161\"><br>\n",
    "    <b style=\"font-size:200%\">EC4301 MACROECONOMETRÍA</b><br>\n",
    "    <b style=\"font-size:100%\">Asistente: Juan Andrés Montero</b><br><br>\n",
    "    <b style=\"font-size:100%\"> Laboratorio #10:</b>\n",
    "    <br>    \n",
    "    <div style=\"font-size:150%; color:white; background-color: #0064b0; padding-top: 20px; padding-bottom: 20px; width: 50%; margin: 0 auto; border-radius: 15px; text-align: center;\">\n",
    "        Análisis de Cambio Estructural 2\n",
    "    </div>\n",
    "</center>\n",
    "\n",
    "<br>\n",
    "\n",
    "<i style=\"font-size:80%\"> \n",
    "    Creado: Noviembre 2024\n",
    "</i>\n",
    "\n",
    "<hr>"
   ]
  },
  {
   "cell_type": "markdown",
   "id": "462b6331",
   "metadata": {},
   "source": [
    "## Resumen del laboratorio anterior\n",
    "\n",
    "- El mercado de gasolina en Estados Unidos (1953-2004)\n",
    "- La prueba de Chow para detectar cambio estructural\n",
    "- El impacto de la crisis del petróleo de 1973\n",
    "- La prueba de Andrews para varianzas desiguales"
   ]
  },
  {
   "cell_type": "markdown",
   "id": "729d69d8",
   "metadata": {},
   "source": [
    "## Simulación de Series con Cambio Estructural\n",
    "### 1. Proceso AR(1) con Cambio en el Nivel\n",
    "Vamos a analizar un proceso autorregresivo con un cambio estructural en el nivel:\n",
    "\n",
    "```stata\n",
    "clear all\n",
    "set obs 100\n",
    "set seed 12345\n",
    "gen t = _n\n",
    "tsset t\n",
    "* Generamos el proceso AR(1) con cambio estructural\n",
    "gen y = 0\n",
    "gen D = 0\n",
    "replace D = 3 if t>50  // Cambio estructural en t=50\n",
    "gen epsilon = rnormal(0, 1)\n",
    "replace y = 0.5 * L.y + epsilon + D if t>1\n",
    "* Visualización\n",
    "tsline y\n",
    "```"
   ]
  },
  {
   "cell_type": "markdown",
   "id": "3d7af6dc",
   "metadata": {},
   "source": [
    "Este proceso sigue la forma:\n",
    "y_{t} = 0.5y_{t-1} + ε_{t} + D_L \n",
    "\n",
    "donde:\n",
    "- ε_{t} ~ N(0,1)\n",
    "- D_L = 3 si t>50, 0 en otro caso\n",
    "- El proceso es estacionario antes y después del cambio"
   ]
  },
  {
   "cell_type": "markdown",
   "id": "67fe3025",
   "metadata": {},
   "source": [
    "### 2. Prueba de Raíz Unitaria con Cambio Estructural\n",
    "\n",
    "La presencia de cambios estructurales puede llevar a conclusiones erróneas en las pruebas de raíz unitaria estándar. Veamos esto en práctica:\n",
    "\n",
    "```stata\n",
    "* Prueba Dickey-Fuller estándar\n",
    "dfuller y\n",
    "```\n",
    "A pesar de que el proceso es estacionario, la prueba Dickey-Fuller puede fallar en rechazar la hipótesis nula de raíz unitaria debido al cambio estructural."
   ]
  },
  {
   "cell_type": "markdown",
   "id": "fb5f5666",
   "metadata": {},
   "source": [
    "### 3. Prueba de Perron (1989)\n",
    "Perron propuso una modificación a la prueba de raíz unitaria que considera explícitamente el cambio estructural:\n",
    "Hipótesis nula (H0): y_{t} = α₀ + y_{t-1} + (μ₁)D_P + ε_t\n",
    "Hipótesis alternativa (H1): y_{t} = α₀ + (α₂)t + (μ₂)D_L + ε_t\n",
    "\n",
    "Donde:\n",
    "- D_P = 1 si t = τ + 1 (momento del cambio)\n",
    "- D_L = 1 si t > τ"
   ]
  },
  {
   "cell_type": "markdown",
   "id": "4769d79c",
   "metadata": {},
   "source": [
    "```stata\n",
    "* Generamos las variables dummy\n",
    "gen D_P = 0\n",
    "replace D_P = 1 if t == 51\n",
    "gen D_L = 0\n",
    "replace D_L = 1 if t>50\n",
    "\n",
    "* Estimación del modelo combinado\n",
    "regress y L.y t D_P D_L\n",
    "\n",
    "predict residuos, resid\n",
    "* Prueba de correlación serial\n",
    "wntestq residuos\n",
    "\n",
    "```"
   ]
  },
  {
   "cell_type": "markdown",
   "id": "d95f956b",
   "metadata": {},
   "source": [
    "## Prueba CUSUM de Inestabilidad de Parámetros\n",
    "La prueba CUSUM es útil para detectar cambios estructurales cuando no conocemos el momento exacto del cambio.\n",
    "\n",
    "### 1. Simulación de Proceso con Cambio en Parámetros\n",
    "```stata\n",
    "clear all\n",
    "set obs 200\n",
    "set seed 2023\n",
    "gen t = _n\n",
    "tsset t\n",
    "\n",
    "* Generamos proceso con cambio en parámetros\n",
    "gen y = 0\n",
    "gen epsilon = rnormal(0, 1)\n",
    "replace y = 1 + 0.25*L.y + epsilon if t>1\n",
    "replace y = 2.5 + 0.65*L.y + epsilon if t>=125\n",
    "\n",
    "* Visualización\n",
    "tsline y\n",
    "```"
   ]
  },
  {
   "cell_type": "markdown",
   "id": "dce5d710",
   "metadata": {},
   "source": [
    "Este proceso tiene:\n",
    "\n",
    "- Cambio en la constante: 1 → 2.5\n",
    "- Cambio en el coeficiente AR: 0.25 → 0.65\n",
    "- Punto de cambio: t = 125"
   ]
  },
  {
   "cell_type": "markdown",
   "id": "dee1cbb4",
   "metadata": {},
   "source": [
    "### 2. Implementación de la Prueba CUSUM\n",
    "```stata\n",
    "* Estimación AR(1)\n",
    "regress y L.y\n",
    "\n",
    "* Prueba CUSUM\n",
    "estat sbcusum\n",
    "\n",
    "* Para versiones anteriores de STATA\n",
    "ssc install cusum9\n",
    "cusum9 y L.y\n",
    "\n",
    "```"
   ]
  },
  {
   "cell_type": "markdown",
   "id": "8e4bdd61",
   "metadata": {},
   "source": [
    "## Interpretación y Conclusiones\n",
    "\n",
    "1. Cambio Estructural y Raíz Unitaria:\n",
    "   - Los cambios estructurales pueden confundirse con raíces unitarias\n",
    "   - Es crucial considerar posibles cambios al analizar la estacionariedad\n",
    "\n",
    "2. Prueba de Perron:\n",
    "   - Permite distinguir entre raíz unitaria y cambio estructural\n",
    "   - Es más poderosa cuando conocemos el punto de cambio\n",
    "\n",
    "3. Análisis CUSUM:\n",
    "   - Útil para detectar cambios cuando el punto es desconocido\n",
    "   - Proporciona evidencia visual de la inestabilidad"
   ]
  },
  {
   "cell_type": "markdown",
   "id": "827557cc",
   "metadata": {},
   "source": [
    "# Referencias\n",
    "\n",
    "- Perron, P. (1989). \"The Great Crash, the Oil Price Shock, and the Unit Root Hypothesis.\" Econometrica, 57(6), 1361-1401.\n",
    "\n",
    "- Brown, R.L., Durbin, J., and Evans, J.M. (1975). \"Techniques for Testing the Constancy of Regression Relationships over Time.\" Journal of the Royal Statistical Society, Series B, 37(2), 149-192."
   ]
  }
 ],
 "metadata": {
  "kernelspec": {
   "display_name": "Python 3 (ipykernel)",
   "language": "python",
   "name": "python3"
  },
  "language_info": {
   "codemirror_mode": {
    "name": "ipython",
    "version": 3
   },
   "file_extension": ".py",
   "mimetype": "text/x-python",
   "name": "python",
   "nbconvert_exporter": "python",
   "pygments_lexer": "ipython3",
   "version": "3.11.4"
  }
 },
 "nbformat": 4,
 "nbformat_minor": 5
}
