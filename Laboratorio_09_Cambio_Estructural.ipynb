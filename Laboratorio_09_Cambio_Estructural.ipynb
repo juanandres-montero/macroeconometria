{
  "nbformat": 4,
  "nbformat_minor": 0,
  "metadata": {
    "colab": {
      "provenance": [],
      "authorship_tag": "ABX9TyPJy9QY42oYSoxulk1JmXjr",
      "include_colab_link": true
    },
    "kernelspec": {
      "name": "python3",
      "display_name": "Python 3"
    },
    "language_info": {
      "name": "python"
    }
  },
  "cells": [
    {
      "cell_type": "markdown",
      "metadata": {
        "id": "view-in-github",
        "colab_type": "text"
      },
      "source": [
        "<a href=\"https://colab.research.google.com/github/juanandres-montero/macroeconometria/blob/main/Laboratorio_09_Cambio_Estructural.ipynb\" target=\"_parent\"><img src=\"https://colab.research.google.com/assets/colab-badge.svg\" alt=\"Open In Colab\"/></a>"
      ]
    },
    {
      "cell_type": "markdown",
      "source": [
        "<link rel=\"stylesheet\" type=\"text/css\"\n",
        "    href=\"https://cdn.rawgit.com/dreampulse/computer-modern-web-font/master/fonts.css\">\n",
        "<style>\n",
        "body {\n",
        "  font-family: \"Computer Modern Sans\", sans-serif;\n",
        "}\n",
        "h1, h3 {\n",
        "  font-weight: bold;\n",
        "}\n",
        "</style>\n",
        "\n",
        "<center>\n",
        "  <img src=\"https://github.com/juanandres-montero/microeconometria/blob/main/logo%20EEC%20grande.png?raw=1\" width=\"396\" height=\"161\">\n",
        "  <h1></h1>\n",
        "  <h1 style=\"text-align: center;\">EC-4301 MACROECONOMETRÍA</h1>\n",
        "  <h2 style=\"text-align: center;\">Asist. Juan Andrés Montero Zúñiga</h2>\n",
        "  <br>\n",
        "  <h3> Laboratorio 09:</h3>\n",
        "  <div style=\"font-size:250%;color:white; background-color: #0064b0;\">Cambio Estructural</div>\n",
        "</center>\n",
        "<br><br>\n",
        "\n",
        "<i>\n",
        "    Creado: 2024-Jun\n",
        "</i>\n",
        "\n",
        "<hr>"
      ],
      "metadata": {
        "id": "mGrVjHPEVUO-"
      }
    }
  ]
}