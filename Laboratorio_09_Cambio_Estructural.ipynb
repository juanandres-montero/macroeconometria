{
  "nbformat": 4,
  "nbformat_minor": 0,
  "metadata": {
    "colab": {
      "provenance": [],
      "authorship_tag": "ABX9TyN3e9hVmEOZIL5FoDFC9h5v",
      "include_colab_link": true
    },
    "kernelspec": {
      "name": "python3",
      "display_name": "Python 3"
    },
    "language_info": {
      "name": "python"
    }
  },
  "cells": [
    {
      "cell_type": "markdown",
      "metadata": {
        "id": "view-in-github",
        "colab_type": "text"
      },
      "source": [
        "<a href=\"https://colab.research.google.com/github/juanandres-montero/macroeconometria/blob/main/Laboratorio_09_Cambio_Estructural.ipynb\" target=\"_parent\"><img src=\"https://colab.research.google.com/assets/colab-badge.svg\" alt=\"Open In Colab\"/></a>"
      ]
    },
    {
      "cell_type": "markdown",
      "source": [
        "<link rel=\"stylesheet\" type=\"text/css\"\n",
        "    href=\"https://cdn.rawgit.com/dreampulse/computer-modern-web-font/master/fonts.css\">\n",
        "<style>\n",
        "body {\n",
        "  font-family: \"Computer Modern Sans\", sans-serif;\n",
        "}\n",
        "h1, h3 {\n",
        "  font-weight: bold;\n",
        "}\n",
        "</style>\n",
        "\n",
        "<center>\n",
        "  <img src=\"https://github.com/juanandres-montero/microeconometria/blob/main/logo%20EEC%20grande.png?raw=1\" width=\"396\" height=\"161\">\n",
        "  <h1></h1>\n",
        "  <h1 style=\"text-align: center;\">EC-4301 MACROECONOMETRÍA</h1>\n",
        "  <h2 style=\"text-align: center;\">Asist. Juan Andrés Montero Zúñiga</h2>\n",
        "  <br>\n",
        "  <h3> Laboratorio 09:</h3>\n",
        "  <div style=\"font-size:250%;color:white; background-color: #0064b0;\">Cambio Estructural</div>\n",
        "</center>\n",
        "<br><br>\n",
        "\n",
        "<i>\n",
        "    Creado: 2024-Jun\n",
        "</i>\n",
        "\n",
        "<hr>"
      ],
      "metadata": {
        "id": "mGrVjHPEVUO-"
      }
    },
    {
      "cell_type": "markdown",
      "source": [
        "# Prueba de Chow"
      ],
      "metadata": {
        "id": "KB6i7EaOeM-Q"
      }
    },
    {
      "cell_type": "markdown",
      "source": [
        "Limpieza y carga de datos:"
      ],
      "metadata": {
        "id": "qQNZ6IEWhBUQ"
      }
    },
    {
      "cell_type": "code",
      "source": [
        "!wget https://github.com/juanandres-montero/macroeconometria/raw/main/oil_test.xlsx\n",
        "import pandas as pd\n",
        "df = pd.read_excel(\"/content/oil_test.xlsx\", sheet_name=\"Hoja3\")"
      ],
      "metadata": {
        "colab": {
          "base_uri": "https://localhost:8080/"
        },
        "id": "ceUPDcMDhH3V",
        "outputId": "743ea54c-8f46-42ef-d17a-bb17341c5511"
      },
      "execution_count": 152,
      "outputs": [
        {
          "output_type": "stream",
          "name": "stdout",
          "text": [
            "--2024-07-02 10:58:43--  https://github.com/juanandres-montero/macroeconometria/raw/main/oil_test.xlsx\n",
            "Resolving github.com (github.com)... 140.82.112.3\n",
            "Connecting to github.com (github.com)|140.82.112.3|:443... connected.\n",
            "HTTP request sent, awaiting response... 302 Found\n",
            "Location: https://raw.githubusercontent.com/juanandres-montero/macroeconometria/main/oil_test.xlsx [following]\n",
            "--2024-07-02 10:58:43--  https://raw.githubusercontent.com/juanandres-montero/macroeconometria/main/oil_test.xlsx\n",
            "Resolving raw.githubusercontent.com (raw.githubusercontent.com)... 185.199.109.133, 185.199.111.133, 185.199.110.133, ...\n",
            "Connecting to raw.githubusercontent.com (raw.githubusercontent.com)|185.199.109.133|:443... connected.\n",
            "HTTP request sent, awaiting response... 200 OK\n",
            "Length: 19705 (19K) [application/octet-stream]\n",
            "Saving to: ‘oil_test.xlsx.8’\n",
            "\n",
            "oil_test.xlsx.8     100%[===================>]  19.24K  --.-KB/s    in 0.001s  \n",
            "\n",
            "2024-07-02 10:58:43 (35.9 MB/s) - ‘oil_test.xlsx.8’ saved [19705/19705]\n",
            "\n"
          ]
        }
      ]
    },
    {
      "cell_type": "markdown",
      "source": [
        "Conversión de variables a formato numérico:"
      ],
      "metadata": {
        "id": "l3WSLez5hgza"
      }
    },
    {
      "cell_type": "code",
      "source": [
        "df = df.apply(pd.to_numeric, errors='coerce')"
      ],
      "metadata": {
        "id": "osGpMN2IhkMV"
      },
      "execution_count": 153,
      "outputs": []
    },
    {
      "cell_type": "markdown",
      "source": [
        "Generación de nuevas variables:"
      ],
      "metadata": {
        "id": "-iJsvt2FhqZu"
      }
    },
    {
      "cell_type": "code",
      "source": [
        "import numpy as np\n",
        "df['Gas_per_capita'] = df['GasExp'] / df['Pop'] / df['Gasp']\n",
        "df['t'] = df['Year'] - 1952 # tendencia centrada en 1952\n",
        "df['lngpc'] = np.log(df['Gas_per_capita'])\n",
        "df['lnincome'] = np.log(df['Income'])\n",
        "df['lnpg'] = np.log(df['Gasp'])\n",
        "df['lnpnc'] = np.log(df['PNC'])\n",
        "df['lnpuc'] = np.log(df['PUC'])\n",
        "df['cons_percapita_millon'] = df['Gas_per_capita'] * 1_000_000#consumo per cápita de gasolina."
      ],
      "metadata": {
        "id": "00rK96i_hs76"
      },
      "execution_count": 154,
      "outputs": []
    },
    {
      "cell_type": "markdown",
      "source": [
        "Gráfico de dispersión del consumo per cápita de gasolina:"
      ],
      "metadata": {
        "id": "wXbpb42ahzlz"
      }
    },
    {
      "cell_type": "code",
      "source": [
        "import matplotlib.pyplot as plt\n",
        "\n",
        "plt.scatter(df[df['Year'] <= 1973]['cons_percapita_millon'], df[df['Year'] <= 1973]['Gasp'], color='red', label='1953-1973')\n",
        "plt.scatter(df[df['Year'] > 1973]['cons_percapita_millon'],df[df['Year'] > 1973]['Gasp'] , color='green', label='1974-2004')\n",
        "plt.legend()\n",
        "plt.xlabel('Consumo per cápita gasolina')\n",
        "plt.ylabel('Índice de precios gasolina')\n",
        "plt.show()"
      ],
      "metadata": {
        "colab": {
          "base_uri": "https://localhost:8080/",
          "height": 450
        },
        "id": "Vs4-wboJh2lD",
        "outputId": "be1b9de7-51aa-45e6-cae8-893601ca831a"
      },
      "execution_count": 155,
      "outputs": [
        {
          "output_type": "display_data",
          "data": {
            "text/plain": [
              "<Figure size 640x480 with 1 Axes>"
            ],
            "image/png": "[encoded data removed]"
          },
          "metadata": {}
        }
      ]
    },
    {
      "cell_type": "markdown",
      "source": [
        "Regresión para diferentes períodos:"
      ],
      "metadata": {
        "id": "eOIS9ksmh8qV"
      }
    },
    {
      "cell_type": "code",
      "source": [
        "import statsmodels.api as sm\n",
        "\n",
        "X = df[['lnincome', 'lnpg', 'lnpnc', 'lnpuc', 't']]\n",
        "X = sm.add_constant(X)\n",
        "y = df['lngpc']\n",
        "\n",
        "model_full = sm.OLS(y, X).fit()\n",
        "S = model_full.ssr  # Suma de residuos al cuadrado (SSR)\n",
        "#print(model_full.summary())\n",
        "print(f\"S = {S}\")\n",
        "\n",
        "model_pre1974 = sm.OLS(y[df['Year'] < 1974], X[df['Year'] < 1974]).fit()\n",
        "S_pre1974 = model_pre1974.ssr  # SSR\n",
        "print(\"\\nRegresión 1953-1973:\")\n",
        "#print(model_pre1974.summary())\n",
        "print(f\"S_2 (1953-1973) = {S_pre1974}\")\n",
        "\n",
        "model_post1973 = sm.OLS(y[df['Year'] > 1973], X[df['Year'] > 1973]).fit()\n",
        "S_post1973 = model_post1973.ssr  # SSR\n",
        "print(\"\\nRegresión 1974-2004:\")\n",
        "#print(model_post1973.summary())\n",
        "print(f\"S_2 (1974-2004) = {S_post1973}\")"
      ],
      "metadata": {
        "colab": {
          "base_uri": "https://localhost:8080/"
        },
        "id": "pSTAxc_Mh498",
        "outputId": "c3aa6d58-5c8d-42f4-f433-60001c1e1c16"
      },
      "execution_count": 156,
      "outputs": [
        {
          "output_type": "stream",
          "name": "stdout",
          "text": [
            "S = 0.10199695859910016\n",
            "\n",
            "Regresión 1953-1973:\n",
            "S_2 (1953-1973) = 0.002022444723752553\n",
            "\n",
            "Regresión 1974-2004:\n",
            "S_2 (1974-2004) = 0.0071278986860849125\n"
          ]
        }
      ]
    },
    {
      "cell_type": "markdown",
      "source": [
        "Cálculo y decisión estadística:"
      ],
      "metadata": {
        "id": "-qtfSwg2iD6B"
      }
    },
    {
      "cell_type": "code",
      "source": [
        "# Cálculo del estadístico de Chow\n",
        "from scipy.stats import f\n",
        "n1 = len(df[df['Year'] < 1974])\n",
        "n2 = len(df[df['Year'] > 1973])\n",
        "k = 6  # Número de coeficientes\n",
        "S2 = S_pre1974 + S_post1973\n",
        "T = len(df)\n",
        "\n",
        "F_statistic = ((S-S2) / k) / (S2 / (T - (2 * k)))\n",
        "critical_value = f.ppf(0.99, k, T - (2 * k))\n",
        "p_value = 1-f.cdf(F_statistic, k, T - (2 * k))\n",
        "\n",
        "print(f\"\\nEstadístico F: {F_statistic}\")\n",
        "print(f\"Valor crítico F(99%, {k}, {T - 2 * k}): {critical_value}\")\n",
        "print(f\"p-valor: {p_value}\")\n",
        "if abs(F_statistic) > abs(critical_value):\n",
        "    print(\"Rechazamos la hipótesis nula. Hay un cambio estructural.\")\n",
        "else:\n",
        "    print(\"No rechazamos la hipótesis nula. No hay un cambio estructural.\")"
      ],
      "metadata": {
        "colab": {
          "base_uri": "https://localhost:8080/"
        },
        "id": "9x6JNw3xjlcH",
        "outputId": "dc699019-b967-4535-c54d-90c7834b31b4"
      },
      "execution_count": 157,
      "outputs": [
        {
          "output_type": "stream",
          "name": "stdout",
          "text": [
            "\n",
            "Estadístico F: 67.64526825623032\n",
            "Valor crítico F(99%, 6, 40): 3.2910123892986864\n",
            "p-valor: 1.1102230246251565e-16\n",
            "Rechazamos la hipótesis nula. Hay un cambio estructural.\n"
          ]
        }
      ]
    },
    {
      "cell_type": "code",
      "source": [
        "import requests\n",
        "import pandas as pd\n",
        "import matplotlib.pyplot as plt\n",
        "\n",
        "#@markdown ### Obtener datos del precio de la plata para Costa Rica\n",
        "url = \"https://www.cpcalc.com/cpc/api/currency/historical.php?from=XAG&to=CRC\"\n",
        "response = requests.get(url)\n",
        "\n",
        "if response.status_code == 200:\n",
        "    data = response.json()\n",
        "    df = pd.DataFrame(data)\n",
        "    df['date'] = pd.to_datetime(df[0])\n",
        "    df.sort_values(by='date', inplace=True)\n",
        "    df1 = df\n",
        "    fecha_inicio = '2007-05-17'\n",
        "    fecha_fin = pd.Timestamp.today().normalize()\n",
        "    fechas_diarias = pd.date_range(start=fecha_inicio, end=fecha_fin, freq='D')\n",
        "    df1.index = fechas_diarias[:len(df1)]\n",
        "    df2 = df1[[1]]\n",
        "    df2 = df2.rename(columns={1: 'Precio'})\n",
        "    df2 = df2['2016-01-01':'2021-10-31']\n",
        "    nuevo_indice = pd.date_range(start='2016-08-20', periods=len(df2), freq='D')\n",
        "    df2.index = nuevo_indice\n",
        "\n",
        "\n",
        "else:\n",
        "    print(f\"Error al obtener los datos. Código de respuesta: {response.status_code}\")\n",
        "df2.head()"
      ],
      "metadata": {
        "cellView": "form",
        "id": "w88njUuxHLLX",
        "colab": {
          "base_uri": "https://localhost:8080/",
          "height": 206
        },
        "outputId": "fa288ec4-fdaa-407c-dbf0-ad94926fe6d2"
      },
      "execution_count": 158,
      "outputs": [
        {
          "output_type": "execute_result",
          "data": {
            "text/plain": [
              "                  Precio\n",
              "2016-08-20  10364.058254\n",
              "2016-08-21  10342.812990\n",
              "2016-08-22  10299.392673\n",
              "2016-08-23  10312.229424\n",
              "2016-08-24  10452.666073"
            ],
            "text/html": [
              "\n",
              "  <div id=\"df-a260f475-211b-4bbd-96c4-64f35bb72043\" class=\"colab-df-container\">\n",
              "    <div>\n",
              "<style scoped>\n",
              "    .dataframe tbody tr th:only-of-type {\n",
              "        vertical-align: middle;\n",
              "    }\n",
              "\n",
              "    .dataframe tbody tr th {\n",
              "        vertical-align: top;\n",
              "    }\n",
              "\n",
              "    .dataframe thead th {\n",
              "        text-align: right;\n",
              "    }\n",
              "</style>\n",
              "<table border=\"1\" class=\"dataframe\">\n",
              "  <thead>\n",
              "    <tr style=\"text-align: right;\">\n",
              "      <th></th>\n",
              "      <th>Precio</th>\n",
              "    </tr>\n",
              "  </thead>\n",
              "  <tbody>\n",
              "    <tr>\n",
              "      <th>2016-08-20</th>\n",
              "      <td>10364.058254</td>\n",
              "    </tr>\n",
              "    <tr>\n",
              "      <th>2016-08-21</th>\n",
              "      <td>10342.812990</td>\n",
              "    </tr>\n",
              "    <tr>\n",
              "      <th>2016-08-22</th>\n",
              "      <td>10299.392673</td>\n",
              "    </tr>\n",
              "    <tr>\n",
              "      <th>2016-08-23</th>\n",
              "      <td>10312.229424</td>\n",
              "    </tr>\n",
              "    <tr>\n",
              "      <th>2016-08-24</th>\n",
              "      <td>10452.666073</td>\n",
              "    </tr>\n",
              "  </tbody>\n",
              "</table>\n",
              "</div>\n",
              "    <div class=\"colab-df-buttons\">\n",
              "\n",
              "  <div class=\"colab-df-container\">\n",
              "    <button class=\"colab-df-convert\" onclick=\"convertToInteractive('df-a260f475-211b-4bbd-96c4-64f35bb72043')\"\n",
              "            title=\"Convert this dataframe to an interactive table.\"\n",
              "            style=\"display:none;\">\n",
              "\n",
              "  <svg xmlns=\"http://www.w3.org/2000/svg\" height=\"24px\" viewBox=\"0 -960 960 960\">\n",
              "    <path d=\"M120-120v-720h720v720H120Zm60-500h600v-160H180v160Zm220 220h160v-160H400v160Zm0 220h160v-160H400v160ZM180-400h160v-160H180v160Zm440 0h160v-160H620v160ZM180-180h160v-160H180v160Zm440 0h160v-160H620v160Z\"/>\n",
              "  </svg>\n",
              "    </button>\n",
              "\n",
              "  <style>\n",
              "    .colab-df-container {\n",
              "      display:flex;\n",
              "      gap: 12px;\n",
              "    }\n",
              "\n",
              "    .colab-df-convert {\n",
              "      background-color: #E8F0FE;\n",
              "      border: none;\n",
              "      border-radius: 50%;\n",
              "      cursor: pointer;\n",
              "      display: none;\n",
              "      fill: #1967D2;\n",
              "      height: 32px;\n",
              "      padding: 0 0 0 0;\n",
              "      width: 32px;\n",
              "    }\n",
              "\n",
              "    .colab-df-convert:hover {\n",
              "      background-color: #E2EBFA;\n",
              "      box-shadow: 0px 1px 2px rgba(60, 64, 67, 0.3), 0px 1px 3px 1px rgba(60, 64, 67, 0.15);\n",
              "      fill: #174EA6;\n",
              "    }\n",
              "\n",
              "    .colab-df-buttons div {\n",
              "      margin-bottom: 4px;\n",
              "    }\n",
              "\n",
              "    [theme=dark] .colab-df-convert {\n",
              "      background-color: #3B4455;\n",
              "      fill: #D2E3FC;\n",
              "    }\n",
              "\n",
              "    [theme=dark] .colab-df-convert:hover {\n",
              "      background-color: #434B5C;\n",
              "      box-shadow: 0px 1px 3px 1px rgba(0, 0, 0, 0.15);\n",
              "      filter: drop-shadow(0px 1px 2px rgba(0, 0, 0, 0.3));\n",
              "      fill: #FFFFFF;\n",
              "    }\n",
              "  </style>\n",
              "\n",
              "    <script>\n",
              "      const buttonEl =\n",
              "        document.querySelector('#df-a260f475-211b-4bbd-96c4-64f35bb72043 button.colab-df-convert');\n",
              "      buttonEl.style.display =\n",
              "        google.colab.kernel.accessAllowed ? 'block' : 'none';\n",
              "\n",
              "      async function convertToInteractive(key) {\n",
              "        const element = document.querySelector('#df-a260f475-211b-4bbd-96c4-64f35bb72043');\n",
              "        const dataTable =\n",
              "          await google.colab.kernel.invokeFunction('convertToInteractive',\n",
              "                                                    [key], {});\n",
              "        if (!dataTable) return;\n",
              "\n",
              "        const docLinkHtml = 'Like what you see? Visit the ' +\n",
              "          '<a target=\"_blank\" href=https://colab.research.google.com/notebooks/data_table.ipynb>data table notebook</a>'\n",
              "          + ' to learn more about interactive tables.';\n",
              "        element.innerHTML = '';\n",
              "        dataTable['output_type'] = 'display_data';\n",
              "        await google.colab.output.renderOutput(dataTable, element);\n",
              "        const docLink = document.createElement('div');\n",
              "        docLink.innerHTML = docLinkHtml;\n",
              "        element.appendChild(docLink);\n",
              "      }\n",
              "    </script>\n",
              "  </div>\n",
              "\n",
              "\n",
              "<div id=\"df-fc2b95d6-9582-4985-8571-b79a9c54ed69\">\n",
              "  <button class=\"colab-df-quickchart\" onclick=\"quickchart('df-fc2b95d6-9582-4985-8571-b79a9c54ed69')\"\n",
              "            title=\"Suggest charts\"\n",
              "            style=\"display:none;\">\n",
              "\n",
              "<svg xmlns=\"http://www.w3.org/2000/svg\" height=\"24px\"viewBox=\"0 0 24 24\"\n",
              "     width=\"24px\">\n",
              "    <g>\n",
              "        <path d=\"M19 3H5c-1.1 0-2 .9-2 2v14c0 1.1.9 2 2 2h14c1.1 0 2-.9 2-2V5c0-1.1-.9-2-2-2zM9 17H7v-7h2v7zm4 0h-2V7h2v10zm4 0h-2v-4h2v4z\"/>\n",
              "    </g>\n",
              "</svg>\n",
              "  </button>\n",
              "\n",
              "<style>\n",
              "  .colab-df-quickchart {\n",
              "      --bg-color: #E8F0FE;\n",
              "      --fill-color: #1967D2;\n",
              "      --hover-bg-color: #E2EBFA;\n",
              "      --hover-fill-color: #174EA6;\n",
              "      --disabled-fill-color: #AAA;\n",
              "      --disabled-bg-color: #DDD;\n",
              "  }\n",
              "\n",
              "  [theme=dark] .colab-df-quickchart {\n",
              "      --bg-color: #3B4455;\n",
              "      --fill-color: #D2E3FC;\n",
              "      --hover-bg-color: #434B5C;\n",
              "      --hover-fill-color: #FFFFFF;\n",
              "      --disabled-bg-color: #3B4455;\n",
              "      --disabled-fill-color: #666;\n",
              "  }\n",
              "\n",
              "  .colab-df-quickchart {\n",
              "    background-color: var(--bg-color);\n",
              "    border: none;\n",
              "    border-radius: 50%;\n",
              "    cursor: pointer;\n",
              "    display: none;\n",
              "    fill: var(--fill-color);\n",
              "    height: 32px;\n",
              "    padding: 0;\n",
              "    width: 32px;\n",
              "  }\n",
              "\n",
              "  .colab-df-quickchart:hover {\n",
              "    background-color: var(--hover-bg-color);\n",
              "    box-shadow: 0 1px 2px rgba(60, 64, 67, 0.3), 0 1px 3px 1px rgba(60, 64, 67, 0.15);\n",
              "    fill: var(--button-hover-fill-color);\n",
              "  }\n",
              "\n",
              "  .colab-df-quickchart-complete:disabled,\n",
              "  .colab-df-quickchart-complete:disabled:hover {\n",
              "    background-color: var(--disabled-bg-color);\n",
              "    fill: var(--disabled-fill-color);\n",
              "    box-shadow: none;\n",
              "  }\n",
              "\n",
              "  .colab-df-spinner {\n",
              "    border: 2px solid var(--fill-color);\n",
              "    border-color: transparent;\n",
              "    border-bottom-color: var(--fill-color);\n",
              "    animation:\n",
              "      spin 1s steps(1) infinite;\n",
              "  }\n",
              "\n",
              "  @keyframes spin {\n",
              "    0% {\n",
              "      border-color: transparent;\n",
              "      border-bottom-color: var(--fill-color);\n",
              "      border-left-color: var(--fill-color);\n",
              "    }\n",
              "    20% {\n",
              "      border-color: transparent;\n",
              "      border-left-color: var(--fill-color);\n",
              "      border-top-color: var(--fill-color);\n",
              "    }\n",
              "    30% {\n",
              "      border-color: transparent;\n",
              "      border-left-color: var(--fill-color);\n",
              "      border-top-color: var(--fill-color);\n",
              "      border-right-color: var(--fill-color);\n",
              "    }\n",
              "    40% {\n",
              "      border-color: transparent;\n",
              "      border-right-color: var(--fill-color);\n",
              "      border-top-color: var(--fill-color);\n",
              "    }\n",
              "    60% {\n",
              "      border-color: transparent;\n",
              "      border-right-color: var(--fill-color);\n",
              "    }\n",
              "    80% {\n",
              "      border-color: transparent;\n",
              "      border-right-color: var(--fill-color);\n",
              "      border-bottom-color: var(--fill-color);\n",
              "    }\n",
              "    90% {\n",
              "      border-color: transparent;\n",
              "      border-bottom-color: var(--fill-color);\n",
              "    }\n",
              "  }\n",
              "</style>\n",
              "\n",
              "  <script>\n",
              "    async function quickchart(key) {\n",
              "      const quickchartButtonEl =\n",
              "        document.querySelector('#' + key + ' button');\n",
              "      quickchartButtonEl.disabled = true;  // To prevent multiple clicks.\n",
              "      quickchartButtonEl.classList.add('colab-df-spinner');\n",
              "      try {\n",
              "        const charts = await google.colab.kernel.invokeFunction(\n",
              "            'suggestCharts', [key], {});\n",
              "      } catch (error) {\n",
              "        console.error('Error during call to suggestCharts:', error);\n",
              "      }\n",
              "      quickchartButtonEl.classList.remove('colab-df-spinner');\n",
              "      quickchartButtonEl.classList.add('colab-df-quickchart-complete');\n",
              "    }\n",
              "    (() => {\n",
              "      let quickchartButtonEl =\n",
              "        document.querySelector('#df-fc2b95d6-9582-4985-8571-b79a9c54ed69 button');\n",
              "      quickchartButtonEl.style.display =\n",
              "        google.colab.kernel.accessAllowed ? 'block' : 'none';\n",
              "    })();\n",
              "  </script>\n",
              "</div>\n",
              "\n",
              "    </div>\n",
              "  </div>\n"
            ],
            "application/vnd.google.colaboratory.intrinsic+json": {
              "type": "dataframe",
              "variable_name": "df2",
              "summary": "{\n  \"name\": \"df2\",\n  \"rows\": 2131,\n  \"fields\": [\n    {\n      \"column\": \"Precio\",\n      \"properties\": {\n        \"dtype\": \"number\",\n        \"std\": 2872.8713405316016,\n        \"min\": 6748.83083636,\n        \"max\": 17536.20047649,\n        \"num_unique_values\": 1895,\n        \"samples\": [\n          14579.68499036,\n          8721.98229687,\n          11008.61537759\n        ],\n        \"semantic_type\": \"\",\n        \"description\": \"\"\n      }\n    }\n  ]\n}"
            }
          },
          "metadata": {},
          "execution_count": 158
        }
      ]
    },
    {
      "cell_type": "code",
      "source": [
        "plt.figure(figsize=(10, 6))\n",
        "plt.plot(df2['Precio'], linestyle='-', color='b', label='Precio de la plata (CRC/Onza)')\n",
        "plt.title('Gráfico de precios de la plata (Costa Rican colón/Onza) 2016-2022')\n",
        "plt.xlabel('Fecha')\n",
        "plt.ylabel('Precio (CRC)')\n",
        "plt.grid(True)\n",
        "plt.legend()\n",
        "plt.xticks(rotation=45)\n",
        "plt.tight_layout()\n",
        "plt.show()"
      ],
      "metadata": {
        "id": "_04PZq4pOK3C",
        "colab": {
          "base_uri": "https://localhost:8080/",
          "height": 607
        },
        "outputId": "fdfecb36-cef1-41b2-bf4b-92621144b4ec"
      },
      "execution_count": 159,
      "outputs": [
        {
          "output_type": "display_data",
          "data": {
            "text/plain": [
              "<Figure size 1000x600 with 1 Axes>"
            ],
            "image/png": "[encoded data removed]"
          },
          "metadata": {}
        }
      ]
    },
    {
      "cell_type": "code",
      "source": [
        "df2.to_csv(\"precio_plata.csv\")\n",
        "\n",
        "from google.colab import files\n",
        "files.download('precio_plata.csv')"
      ],
      "metadata": {
        "colab": {
          "base_uri": "https://localhost:8080/",
          "height": 17
        },
        "id": "RHWaG1Mb9jc1",
        "outputId": "3f5aa7c8-e4c0-481e-a5f3-bb31363f2b6d"
      },
      "execution_count": 161,
      "outputs": [
        {
          "output_type": "display_data",
          "data": {
            "text/plain": [
              "<IPython.core.display.Javascript object>"
            ],
            "application/javascript": [
              "\n",
              "    async function download(id, filename, size) {\n",
              "      if (!google.colab.kernel.accessAllowed) {\n",
              "        return;\n",
              "      }\n",
              "      const div = document.createElement('div');\n",
              "      const label = document.createElement('label');\n",
              "      label.textContent = `Downloading \"${filename}\": `;\n",
              "      div.appendChild(label);\n",
              "      const progress = document.createElement('progress');\n",
              "      progress.max = size;\n",
              "      div.appendChild(progress);\n",
              "      document.body.appendChild(div);\n",
              "\n",
              "      const buffers = [];\n",
              "      let downloaded = 0;\n",
              "\n",
              "      const channel = await google.colab.kernel.comms.open(id);\n",
              "      // Send a message to notify the kernel that we're ready.\n",
              "      channel.send({})\n",
              "\n",
              "      for await (const message of channel.messages) {\n",
              "        // Send a message to notify the kernel that we're ready.\n",
              "        channel.send({})\n",
              "        if (message.buffers) {\n",
              "          for (const buffer of message.buffers) {\n",
              "            buffers.push(buffer);\n",
              "            downloaded += buffer.byteLength;\n",
              "            progress.value = downloaded;\n",
              "          }\n",
              "        }\n",
              "      }\n",
              "      const blob = new Blob(buffers, {type: 'application/binary'});\n",
              "      const a = document.createElement('a');\n",
              "      a.href = window.URL.createObjectURL(blob);\n",
              "      a.download = filename;\n",
              "      div.appendChild(a);\n",
              "      a.click();\n",
              "      div.remove();\n",
              "    }\n",
              "  "
            ]
          },
          "metadata": {}
        },
        {
          "output_type": "display_data",
          "data": {
            "text/plain": [
              "<IPython.core.display.Javascript object>"
            ],
            "application/javascript": [
              "download(\"download_1484b105-39c6-442e-8244-f15d6b1c39fc\", \"precio_plata.csv\", 54047)"
            ]
          },
          "metadata": {}
        }
      ]
    },
    {
      "cell_type": "markdown",
      "source": [
        "<a href=\"https://colab.research.google.com/github/juanandres-montero/macroeconometria/blob/main/Laboratorio_10_VAR.ipynb\">Siguiente laboratorio>>></a>"
      ],
      "metadata": {
        "id": "naDLOnMsvr22"
      }
    }
  ]
}