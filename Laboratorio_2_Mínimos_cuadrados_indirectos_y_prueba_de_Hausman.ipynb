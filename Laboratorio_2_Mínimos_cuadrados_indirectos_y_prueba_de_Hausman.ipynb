{
 "cells": [
  {
   "cell_type": "markdown",
   "id": "d10efdb3",
   "metadata": {
    "slideshow": {
     "slide_type": "slide"
    }
   },
   "source": [
    "<center>\n",
    "    <img src=\"https://github.com/juanandres-montero/microeconometria/blob/main/logo%20EEC%20grande.png?raw=1\" width=\"396\" height=\"161\"><br>\n",
    "    <b>EC4301 MACROECONOMETRÍA</b><br>\n",
    "    <b>Asist: Juan Andrés Montero Zúñiga</b>\n",
    "<br><br>\n",
    "<b> Laboratorio #2:</b>\n",
    "<br>    \n",
    "<div style=\"font-size:250%; color:white; background-color: #0064b0; padding-top: 20px; padding-bottom: 20px; width: 50%; margin: 0 auto; border-radius: 15px;\">\n",
    "    Mínimos cuadrados indirectos <br><br> y prueba de Hausman\n",
    "</div>\n",
    "</center>\n",
    "\n",
    "<br>\n",
    "\n",
    "<i> \n",
    "    Creado: Agosto 2024\n",
    "</i>\n",
    "\n",
    "<hr>"
   ]
  },
  {
   "cell_type": "markdown",
   "id": "b7d2209c",
   "metadata": {
    "slideshow": {
     "slide_type": "slide"
    }
   },
   "source": [
    "# Mínimos cuadrados indirectos\n",
    "\n",
    "Se quiere estimar el siguiente modelo:\n",
    "\n",
    "$${\\color{red}{M_t}} = a_0 + a_1 {\\color{purple}{Y_t}} + u_{1t} \\tag{1}$$\n",
    "\n",
    "$${\\color{purple}{Y_t}} = b_0 + b_1 {\\color{red}{M_t}} + b_2 {\\color{blue}{I_t}} + u_{2t} \\tag{2}$$\n",
    "\n",
    "Donde: \n",
    "\n",
    "${\\color{red}{M_t}}$ es la oferta de dinero.\n",
    "\n",
    "${\\color{purple}{Y_t}}$ es la producción. \n",
    "\n",
    "${\\color{blue}{I_t}}$ es la inversión. \n",
    "\n",
    "$u_{1t}$ y $u_{2t}$ son errores de estimación."
   ]
  },
  {
   "cell_type": "markdown",
   "id": "1bd9dd4d",
   "metadata": {
    "slideshow": {
     "slide_type": "slide"
    }
   },
   "source": [
    "- $M$ es el número de variables endógenas en el modelo; 2\n",
    "- $m$ es el número de variables endógenas en cada ecuación\n",
    "- $K$ es el número de variables predeterminadas en el modelo; 1\n",
    "- $k$ es el número de variables predeterminadas en cada ecuación"
   ]
  },
  {
   "cell_type": "markdown",
   "id": "fc94166f",
   "metadata": {},
   "source": [
    "> **Importante:**  \n",
    "> Una ecuación está exactamente identificada cuando $K-k = m-1$.  \n",
    "> Si $K-k > m-1$ la ecuación está sobre-identificada.  \n",
    "> Si $K-k < m-1$ la ecuación está sub-identificada.\n",
    "\n"
   ]
  },
  {
   "cell_type": "markdown",
   "id": "491d92be",
   "metadata": {},
   "source": [
    "La ecuación (1) está exactamente identificada porque\n",
    "$$\n",
    "K - k = 1 - 0 \\quad=\\quad 2 - 1 = m - 1\n",
    "$$\n",
    "\n",
    "Sin embargo, la ecuación (2) está sub-identificada porque\n",
    "$$\n",
    "K - k = 1 - 1 \\quad<\\quad 2 - 1 = m - 1\n",
    "$$"
   ]
  },
  {
   "cell_type": "markdown",
   "id": "441e8613",
   "metadata": {
    "slideshow": {
     "slide_type": "slide"
    }
   },
   "source": [
    "Note que si no se deja ninguna variable por fuera, la ecuación se vuelve más compleja y como está sub-identificada no podremos saber si los movimientos en las series de tiempo los explica una ecuación o la otra. \n",
    "\n",
    "Excluir variables predeterminadas de una ecuación (y no de otras) nos permite distinguir situaciones en las que esa ecuación **no se mueve**. \n",
    "\n",
    "De este modo, nuestra intención es estimar (1) mediante MCI. Para ello debemos encontrar primero el modelo en forma reducida. Expresemos las ecuaciones (1) y (2) como sigue\n",
    "\n",
    "\\begin{align*}\n",
    "    1 \\cdot M_t + (-a_1) \\cdot Y_t + (-a_0) \\cdot 1 + 0 \\cdot I_t &= u_{1t} \\tag{1'} \\\\\n",
    "    (-b_1) \\cdot M_t + 1 \\cdot Y_t + (-b_0) \\cdot 1 + (-b_2) \\cdot I_t &= u_{2t} \\tag{2'}\n",
    "\\end{align*}"
   ]
  },
  {
   "cell_type": "markdown",
   "id": "0a82a025",
   "metadata": {},
   "source": [
    "Por lo que en forma matricial tenemos:\n",
    "\n",
    "$$\n",
    "\\underset{\\Gamma'}{\\underbrace{\n",
    "\\left(\\begin{array}{cc} \n",
    "1 & -a_1 \\\\\n",
    "-b_1 & 1\n",
    "\\end{array}\\right)}}\n",
    "\\left(\\begin{array}{c} \n",
    "M_t \\\\\n",
    "Y_t\n",
    "\\end{array}\\right)\n",
    "+\n",
    "\\underset{B'}{\\underbrace{\n",
    "\\left(\\begin{array}{cc} \n",
    "-a_0 & 0 \\\\ \n",
    "-b_0 & -b_2\n",
    "\\end{array}\\right)}}\n",
    "\\left(\\begin{array}{c} \n",
    "1 \\\\\n",
    "I_t\n",
    "\\end{array}\\right)\n",
    "=\n",
    "\\left(\\begin{array}{c} \n",
    "u_{1t} \\\\\n",
    "u_{2t}\n",
    "\\end{array}\\right)\n",
    "$$\n",
    "\n",
    "\n",
    "\n",
    "\n"
   ]
  },
  {
   "cell_type": "markdown",
   "id": "ea111f49",
   "metadata": {
    "slideshow": {
     "slide_type": "slide"
    }
   },
   "source": [
    "Pre-multiplicamos ambos lados de la igualdad por $(\\Gamma')^{-1}$, donde:\n",
    "\n",
    "$$\n",
    "(\\Gamma')^{-1} = \\frac{1}{1 - a_1 b_1} \n",
    "\\left(\\begin{array}{cc} \n",
    "1 & a_1 \\\\\n",
    "b_1 & 1\n",
    "\\end{array}\\right)\n",
    "$$\n",
    "\n",
    "Así que:\n",
    "\n",
    "$$\n",
    "\\left(\\begin{array}{c} \n",
    "M_t \\\\\n",
    "Y_t\n",
    "\\end{array}\\right)\n",
    "=\n",
    "\\frac{1}{1 - a_1 b_1}\n",
    "\\left(\\begin{array}{cc} \n",
    "1 & a_1 \\\\\n",
    "b_1 & 1\n",
    "\\end{array}\\right)\n",
    "\\left(\\begin{array}{cc} \n",
    "a_0 & 0 \\\\\n",
    "b_0 & b_2\n",
    "\\end{array}\\right)\n",
    "\\left(\\begin{array}{c} \n",
    "1 \\\\\n",
    "I_t\n",
    "\\end{array}\\right)\n",
    "+\n",
    "\\frac{1}{1 - a_1 b_1}\n",
    "\\left(\\begin{array}{cc} \n",
    "1 & a_1 \\\\\n",
    "b_1 & 1\n",
    "\\end{array}\\right)\n",
    "\\left(\\begin{array}{c} \n",
    "u_{1t} \\\\\n",
    "u_{2t}\n",
    "\\end{array}\\right)\n",
    "$$"
   ]
  },
  {
   "cell_type": "markdown",
   "id": "c8e494e2",
   "metadata": {
    "slideshow": {
     "slide_type": "slide"
    }
   },
   "source": [
    "$$\n",
    "\\left(\\begin{array}{c} \n",
    "M_t \\\\\n",
    "Y_t \n",
    "\\end{array}\\right)\n",
    "= \n",
    "\\underbrace{\n",
    "\\left(\\begin{array}{cc} \n",
    "\\frac{a_0 + a_1 b_0}{1 - a_1 b_1} & \\frac{a_1 b_2}{1 - a_1 b_1} \\\\\n",
    "\\frac{b_1 a_0 + b_0}{1 - a_1 b_1} & \\frac{b_2}{1 - a_1 b_1}\n",
    "\\end{array}\\right)}_{\\Pi'}\n",
    "\\left(\\begin{array}{c} \n",
    "1 \\\\\n",
    "I_t \n",
    "\\end{array}\\right)\n",
    "+ \n",
    "\\underbrace{\n",
    "\\left(\\begin{array}{c} \n",
    "\\frac{u_{1t} + a_1 u_{2t}}{1 - a_1 b_1} \\\\\n",
    "\\frac{b_1 u_{1t} + u_{2t}}{1 - a_1 b_1}\n",
    "\\end{array}\\right)}_{v_t}\n",
    "\\tag{6}\n",
    "$$\n",
    "\n",
    "Entonces, la forma reducida del modelo es:\n",
    "\n",
    "$$\n",
    "M_t = \\frac{a_0 + a_1 b_0}{1 - a_1 b_1} + \\frac{a_1 b_2}{1 - a_1 b_1} I_t + \\frac{u_{1t} + a_1 u_{2t}}{1 - a_1 b_1} \n",
    "\\tag{7}\n",
    "$$\n",
    "\n",
    "$$\n",
    "Y_t = \\frac{b_1 a_0 + b_0}{1 - a_1 b_1} + \\frac{b_2}{1 - a_1 b_1} I_t + \\frac{b_1 u_{1t} + u_{2t}}{1 - a_1 b_1} \n",
    "\\tag{8}\n",
    "$$\n",
    "\n",
    "La cual podemos escribir como:\n",
    "\n",
    "$$\n",
    "M_t = \\pi_0 + \\pi_1 I_t + v_{1t} \n",
    "\\tag{7'}\n",
    "$$\n",
    "\n",
    "$$\n",
    "Y_t = \\pi_2 + \\pi_3 I_t + v_{2t} \n",
    "\\tag{8'}\n",
    "$$\n",
    "\n"
   ]
  },
  {
   "cell_type": "markdown",
   "id": "24acec60",
   "metadata": {
    "slideshow": {
     "slide_type": "slide"
    }
   },
   "source": [
    "\n",
    "Donde:\n",
    "\n",
    "$$\n",
    "\\pi_0 := \\frac{a_0 + a_1 b_0}{1 - a_1 b_1}, \\quad \\pi_1 := \\frac{a_1 b_2}{1 - a_1 b_1}, \\quad \\pi_2 := \\frac{b_1 a_0 + b_0}{1 - a_1 b_1}, \\quad \\pi_3 := \\frac{b_2}{1 - a_1 b_1}\n",
    "$$\n",
    "\n",
    "y los choques reducidos (en función de los estructurales) son:\n",
    "\n",
    "$$\n",
    "v_{1t} := \\frac{u_{1t} + a_1 u_{2t}}{1 - a_1 b_1}, \\quad v_{2t} := \\frac{b_1 u_{1t} + u_{2t}}{1 - a_1 b_1}\n",
    "$$\n",
    "\n",
    "Sabemos que los parámetros estructurales que podemos estimar son $a_0$ y $a_1$; así que obtendremos sus valores en términos de los parámetros del modelo reducido:\n",
    "\n",
    "$$\n",
    "\\frac{\\pi_1}{\\pi_3} = \\frac{\\frac{a_1 b_2}{1 - a_1 b_1}}{\\frac{b_2}{1 - a_1 b_1}} = a_1 \n",
    "\\tag{9}\n",
    "$$\n",
    "\n",
    "$$\n",
    "\\pi_0 - \\frac{\\pi_1 \\pi_2}{\\pi_3} = \\frac{a_0 + a_1 b_0}{1 - a_1 b_1} - a_1 \\frac{b_1 a_0 + b_0}{1 - a_1 b_1} = \\frac{a_0 + a_1 b_0 - a_1 b_1 a_0 + a_1 b_0}{1 - a_1 b_1} = a_0\n",
    "\\tag{10}\n",
    "$$\n",
    "\n",
    "Provistos de estas fórmulas, nuestro trabajo en términos de escritura de código es diminuto: solo debemos estimar (7’) y (8’) mediante mínimos cuadrados ordinarios (MCO)."
   ]
  },
  {
   "cell_type": "markdown",
   "id": "4ab9d201",
   "metadata": {
    "slideshow": {
     "slide_type": "slide"
    }
   },
   "source": [
    "## Estimación en Stata\n",
    "\n",
    "Ya simplificados los coeficientes en Stata será muy simple obtenerlos, haremos una simple regresión de la forma siguiente:\n",
    "\n",
    "```regress m i```\n",
    "\n",
    "```regress y i```"
   ]
  },
  {
   "cell_type": "markdown",
   "id": "9a474e18",
   "metadata": {},
   "source": [
    "Se obtiene \n",
    "$$\\hat{\\pi}_0 \\approx 312.0608$$ \n",
    "$$\\hat{\\pi}_1 \\approx 0.5692502$$ \n",
    "$$\\hat{\\pi}_2 \\approx 852.3203$$ \n",
    "$$\\hat{\\pi}_3 \\approx 5.352226$$\n",
    "\n",
    "Sustituyendo los valores en la fórmula anterior:\n",
    "\n",
    "$$\n",
    "\\hat{a}_0^{MCI} \\approx 312.0608 - \\frac{(0.5692502)(852.3203)}{5.352226} \\approx 221.410013 \\quad (11)\n",
    "$$\n",
    "\n",
    "$$\n",
    "\\hat{a}_1^{MCI} \\approx \\frac{0.5692502}{5.352226} \\approx 0.10636 \\quad (12)\n",
    "$$"
   ]
  },
  {
   "cell_type": "markdown",
   "id": "fab9f2fe",
   "metadata": {
    "slideshow": {
     "slide_type": "slide"
    }
   },
   "source": [
    "Comparemos esto con $\\hat{a}_0^{MCO}$ y $\\hat{a}_1^{MCO}$ corriendo el siguiente código, \n",
    "\n",
    "``` regress m y ```\n",
    "\n",
    "Se obtiene:\n",
    "\n",
    "$$\\hat{a}_0^{MCO} \\approx 162.70$$\n",
    "\n",
    "$$\n",
    "\\hat{a}_1^{MCO} \\approx 0.1159\n",
    "$$\n",
    "\n",
    "Los resultados difieren a simple vista: por desgracia, es difícil superar esta comparación informal ya que la alta volatilidad que caracteriza a los estimadores de MCI generalmente impide corroborar si las diferencias son estadísticamente significativas. \n",
    "\n",
    "No obstante, una posible explicación para esas diferencias es la existencia de sesgo de simultaneidad; y esta sí que podemos evaluarla con una prueba (de Hausman)\n",
    "> **Sesgo de simultaneidad**: Es donde la variable explicativa se determina conjuntamente con la variable dependiente . En otras palabras, X causa Y pero Y también causa X.\n",
    "\n",
    "Fuente: [statologos](https://statologos.com/sesgo-de-simultaneidad/)"
   ]
  },
  {
   "cell_type": "markdown",
   "id": "8129228d",
   "metadata": {
    "slideshow": {
     "slide_type": "slide"
    }
   },
   "source": [
    "# Prueba de Hausman\n",
    "1. Se estima la ecuación sub-identificada con una regresión\n",
    "```regress y i```\n",
    "\n",
    "2. Guarda los residuos de la regresión\n",
    "```predict y_res, res```\n",
    "\n",
    "3. Guarda la variable endógena estimada.\n",
    "```predict y_hat, xb```\n",
    "\n",
    "4. Estima la ecuación exactamente identificada, reemplazando la variable endógena por la estimada e incluyendo sus choques reducidos.\n",
    "```regress m y_hat y_res```\n",
    "\n"
   ]
  },
  {
   "cell_type": "markdown",
   "id": "6caa9528",
   "metadata": {},
   "source": [
    "Note que ```y_res``` es significativo para todos los niveles de significancia convencionales, es decir, **se rechaza** la hipótesis de que el coeficiente asociado a $\\hat{v}_{1t}$ sea nulo: evidencia que apunta a la presencia de simultaneidad y por ende un sesgo (que no desaparece asintóticamente) en los estimadores de MCO y por lo tanto lo correcto es la estimación con MCI.\n",
    "\n",
    "> Nota: Los estimadores MCI heredan la **consistencia** de los MCO."
   ]
  },
  {
   "cell_type": "markdown",
   "id": "d9fc8245",
   "metadata": {
    "slideshow": {
     "slide_type": "slide"
    }
   },
   "source": [
    "# Modelo de Oferta y Demanda con Precio Endógeno\n",
    "\n",
    "Consideremos un mercado donde el precio del bien ($ P $) es determinado dentro del sistema por las interacciones entre la oferta ($Q_s$) y la demanda ($Q_d$) del bien.\n",
    "\n",
    "## Ecuaciones del Modelo:\n",
    "\n",
    "1. **Ecuación de Demanda**:\n",
    "   $$\n",
    "   Q_d = \\alpha_0 + \\alpha_1 P + \\alpha_2 I + u_1\n",
    "   $$\n",
    "   Donde:\n",
    "   - $ Q_d $ es la cantidad demandada.\n",
    "   - $ P $ es el precio del bien (variable endógena).\n",
    "   - $ I $ es el ingreso de los consumidores (variable exógena).\n",
    "   - $ u_1 $ es el término de error.\n",
    "\n",
    "2. **Ecuación de Oferta**:\n",
    "   $$\n",
    "   Q_s = \\beta_0 + \\beta_1 P + \\beta_2 C + u_2\n",
    "   $$\n",
    "   Donde:\n",
    "   - $ Q_s $ es la cantidad ofrecida.\n",
    "   - $ P $ es el precio del bien (variable endógena).\n",
    "   - $ C $ es el costo de producción (variable exógena).\n",
    "   - $ u_2 $ es el término de error."
   ]
  },
  {
   "cell_type": "markdown",
   "id": "bf68a445",
   "metadata": {},
   "source": [
    "\n",
    "3. **Ecuación de Equilibrio de Precio**:\n",
    "   $$\n",
    "   P = \\gamma_0 + \\gamma_1 I + \\gamma_2 C + u_3\n",
    "   $$\n",
    "   Donde:\n",
    "   - $ P $ es el precio del bien (variable endógena).\n",
    "   - $ I $ es el ingreso de los consumidores (variable exógena).\n",
    "   - $ C $ es el costo de producción (variable exógena).\n",
    "   - $ u_3 $ es el término de error."
   ]
  },
  {
   "cell_type": "markdown",
   "id": "fc05d4d6",
   "metadata": {
    "slideshow": {
     "slide_type": "slide"
    }
   },
   "source": [
    "## Despeje y Modelo Reducido\n",
    "\n",
    "$$\n",
    "Q_d = \\alpha_0 + \\alpha_1 (\\gamma_0 + \\gamma_1 I + \\gamma_2 C + u_3) + \\alpha_2 I + u_1\n",
    "$$\n",
    "$$\n",
    "Q_s = \\beta_0 + \\beta_1 (\\gamma_0 + \\gamma_1 I + \\gamma_2 C + u_3) + \\beta_2 C + u_2\n",
    "$$\n",
    "\n",
    "Agrupando:\n",
    "\n",
    "$$\n",
    "Q_d = (\\alpha_0 + \\alpha_1 \\gamma_0) + (\\alpha_1 \\gamma_1 + \\alpha_2) I + \\alpha_1 \\gamma_2 C + (\\alpha_1 u_3 + u_1)\n",
    "$$\n",
    "\n",
    "$$\n",
    "Q_s = (\\beta_0 + \\beta_1 \\gamma_0) + \\beta_1 \\gamma_1 I + (\\beta_1 \\gamma_2 + \\beta_2) C + (\\beta_1 u_3 + u_2)\n",
    "$$\n",
    "\n",
    "### Forma Reducida\n",
    "\n",
    "- **Demanda Reducida**:\n",
    "\n",
    "$$\n",
    "Q_d = \\pi_0 + \\pi_1 I + \\pi_2 C + v_1\n",
    "$$\n",
    "\n",
    "- **Oferta Reducida**:\n",
    "\n",
    "$$\n",
    "Q_s = \\pi_3 + \\pi_4 I + \\pi_5 C + v_2\n",
    "$$\n",
    "\n",
    "Donde:\n",
    "$$\\pi_0 = \\alpha_0 + \\alpha_1 \\gamma_0$$\n",
    "$$\\pi_1 = \\alpha_1 \\gamma_1 + \\alpha_2$$\n",
    "$$\\pi_2 = \\alpha_1 \\gamma_2$$\n",
    "$$v_1 = \\alpha_1 u_3 + u_1$$\n",
    "\n",
    "$$\\pi_3 = \\beta_0 + \\beta_1 \\gamma_0$$\n",
    "$$\\pi_4 = \\beta_1 \\gamma_1$$\n",
    "$$\\pi_5 = \\beta_1 \\gamma_2 + \\beta_2$$\n",
    "$$v_2 = \\beta_1 u_3 + u_2$$"
   ]
  },
  {
   "cell_type": "markdown",
   "id": "c0c5e5bd",
   "metadata": {
    "slideshow": {
     "slide_type": "slide"
    }
   },
   "source": [
    "## Generación de Datos en Stata\n",
    "\n",
    "Se generan los datos en Stata de la siguiente forma:\n",
    "\n",
    "```\n",
    "clear all\n",
    "set seed 12345\n",
    "set obs 100\n",
    "\n",
    "* Generar variables exógenas\n",
    "gen I = rnormal(300, 20)   // Ingreso de los consumidores\n",
    "gen C = rnormal(100, 30)   // Costo de producción\n",
    "\n",
    "* Generar el precio (endógeno) usando una ecuación de equilibrio con un término de error\n",
    "gen P = 5 + 0.1*I + 0.2*C + rnormal(0, 1)\n",
    "\n",
    "* Generar las cantidades demandadas y ofrecidas basadas en el precio\n",
    "gen Q_d = 200 - 5*P + 0.1*I + rnormal(0, 1)\n",
    "gen Q_s = -50 + 4*P - 0.3*C + rnormal(0, 2)\n",
    "```\n"
   ]
  },
  {
   "cell_type": "markdown",
   "id": "680ae500",
   "metadata": {},
   "source": [
    "Note los parámetros de $P$ puedes estimarse directamente.\n",
    "\n",
    "```regress P I C```\n",
    "\n",
    "Se obtiene:\n",
    "$$\\hat{\\gamma_0} \\approx 0.0914621$$\n",
    "$$\\hat{\\gamma_1} \\approx 0.2038071$$\n",
    "$$\\hat{\\gamma_2} \\approx 7.408306$$"
   ]
  },
  {
   "cell_type": "markdown",
   "id": "940794d0",
   "metadata": {
    "slideshow": {
     "slide_type": "slide"
    }
   },
   "source": [
    "## Estimación de MCI en Stata\n",
    "\n",
    "```regress Q_d I C```\n",
    "\n",
    "```regress Q_s I C```\n",
    "\n",
    "Se obtienen los parámetros reducidos:\n",
    "$$\\hat{\\pi}_0 \\approx  163.5419$$ \n",
    "$$\\hat{\\pi}_1 \\approx -.3587771$$ \n",
    "$$\\hat{\\pi}_2 \\approx -1.021651$$ \n",
    "$$\\hat{\\pi}_3 \\approx -17.04442$$\n",
    "$$\\hat{\\pi}_4 \\approx .3584955 $$\n",
    "$$\\hat{\\pi}_4 \\approx .5053602 $$"
   ]
  },
  {
   "cell_type": "markdown",
   "id": "90a2d5ce",
   "metadata": {},
   "source": [
    "Y listo, ahora únicamente debe despejar los $\\alpha$ y $\\beta$. "
   ]
  },
  {
   "cell_type": "markdown",
   "id": "e52ca92d",
   "metadata": {
    "slideshow": {
     "slide_type": "slide"
    }
   },
   "source": [
    "## Prueba de Hausman\n",
    "\n",
    "```\n",
    "regress Q_d I C\n",
    "regress Q_s I C\n",
    "* Guardar los resultados de MCO\n",
    "estimates store mco\n",
    "gen P_hat_d = (_b[I] * I + _b[C] * C)  // Precio estimado a partir de la ecuación de demanda reducida\n",
    "gen P_hat_s = (_b[I] * I + _b[C] * C)  // Precio estimado a partir de la ecuación de oferta reducida\n",
    "\n",
    "reg Q_d P_hat_d I  // Regresión de la ecuación de demanda con P_hat_d\n",
    "reg Q_s P_hat_s C  // Regresión de la ecuación de oferta con P_hat_s\n",
    "estimates store mci\n",
    "```"
   ]
  },
  {
   "cell_type": "markdown",
   "id": "5e6f9256",
   "metadata": {
    "slideshow": {
     "slide_type": "slide"
    }
   },
   "source": [
    "```\n",
    "* Realizar la prueba de Hausman\n",
    "hausman mci mco\n",
    "\n",
    "*Dado que el valor de p es extremadamente bajo (0.0000), rechazamos la hipótesis nula. Esto significa que existe evidencia estadísticamente significativa de que las estimaciones por MCO están sesgadas.\n",
    "```"
   ]
  }
 ],
 "metadata": {
  "celltoolbar": "Slideshow",
  "kernelspec": {
   "display_name": "Python 3 (ipykernel)",
   "language": "python",
   "name": "python3"
  },
  "language_info": {
   "codemirror_mode": {
    "name": "ipython",
    "version": 3
   },
   "file_extension": ".py",
   "mimetype": "text/x-python",
   "name": "python",
   "nbconvert_exporter": "python",
   "pygments_lexer": "ipython3",
   "version": "3.11.4"
  },
  "toc": {
   "base_numbering": 1,
   "nav_menu": {},
   "number_sections": true,
   "sideBar": true,
   "skip_h1_title": false,
   "title_cell": "Table of Contents",
   "title_sidebar": "Contents",
   "toc_cell": false,
   "toc_position": {},
   "toc_section_display": true,
   "toc_window_display": false
  }
 },
 "nbformat": 4,
 "nbformat_minor": 5
}
