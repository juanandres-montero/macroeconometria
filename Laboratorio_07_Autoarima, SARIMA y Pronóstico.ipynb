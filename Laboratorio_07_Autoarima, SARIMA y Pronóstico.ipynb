{
 "cells": [
  {
   "cell_type": "markdown",
   "id": "dfaa3f01-1cae-4c4d-9beb-dec00736e00c",
   "metadata": {
    "editable": true,
    "slideshow": {
     "slide_type": "slide"
    },
    "tags": []
   },
   "source": [
    "<center>\n",
    "    <img src=\"https://github.com/juanandres-montero/macroeconometria/blob/main/logo%20EEC%20grande.png?raw=1\" width=\"396\" height=\"161\"><br>\n",
    "    <b style=\"font-size:200%\">EC4301 MACROECONOMETRÍA</b><br>\n",
    "    <b style=\"font-size:100%\">Asistente: Juan Andrés Montero</b><br><br>\n",
    "    <b style=\"font-size:100%\"> Laboratorio #7:</b>\n",
    "    <br>    \n",
    "    <div style=\"font-size:150%; color:white; background-color: #0064b0; padding-top: 20px; padding-bottom: 20px; width: 50%; margin: 0 auto; border-radius: 15px; text-align: center;\">\n",
    "        Autoarima, SARIMA y Pronóstico.\n",
    "    </div>\n",
    "</center>\n",
    "\n",
    "<br>\n",
    "\n",
    "<i style=\"font-size:80%\"> \n",
    "    Creado: Setiembre 2024\n",
    "</i>\n",
    "\n",
    "<hr>"
   ]
  },
  {
   "cell_type": "markdown",
   "id": "3b0787e4-4f96-4d11-ae15-c3c7c8399042",
   "metadata": {
    "editable": true,
    "slideshow": {
     "slide_type": "slide"
    },
    "tags": []
   },
   "source": [
    "# Resumen del laboratorio anterior\n",
    "## **Ajuste del Modelo ARIMA**\n",
    "- Utilizamos la metodología Box-Jenkins para ajustar un modelo ARIMA(p,d,q) al IPC.\n",
    "- Periodo de datos: **enero 2008 a febrero 2021**.\n",
    "- Se realizó la Prueba de Dickey-Fuller Aumentada:\n",
    "  - La serie es integrada de orden 1 (**d=1**).\n",
    "- Graficamos las funciones de autocorrelación (FAC y FACP) para encontrar:\n",
    "  - **q=1**, **p=1** o **p=2**.\n",
    "- Se estimaron los modelos **ARIMA(1,1,1)**, **ARIMA(2,1,1)** y **ARIMA(3,1,1)**.\n",
    "- Decidimos el modelo **ARIMA(3,1,1)** basado en los criterios de Akaike y Bayes."
   ]
  },
  {
   "cell_type": "markdown",
   "id": "ad82adf0",
   "metadata": {},
   "source": [
    "# Comprobar resultados con autoarima\n",
    "\n",
    "- **autoarima en Stata**: \n",
    "    - Prueba ADF para encontrar el número de diferencias (`D`) que la hacen estacionaria: `dfuller variable`\n",
    "    - Definir variable de tiempo: `tsset time_variable`\n",
    "    - Correr autoarima: `autoarima time_variable variable D`\n",
    "\n",
    "- **autoarima en R**: \n",
    "    - Cargar datos: `data <- read.csv(\"archivo.csv\")`\n",
    "    - Correr autoarima especificando la variable: `auto_arima_model <- auto.arima(data$variable)`\n",
    "\n",
    "- **autoarima en Python**: \n",
    "    - Cargar datos: `data = pd.read_csv('archivo.csv')`\n",
    "    - Correr autoarima especificando la variable: `model = auto_arima(data['variable'])`\n",
    "---"
   ]
  },
  {
   "cell_type": "markdown",
   "id": "eff67fcf-4710-4158-a421-d73e37091b5a",
   "metadata": {
    "editable": true,
    "slideshow": {
     "slide_type": "slide"
    },
    "tags": []
   },
   "source": [
    "# Estabilidad y Residuales\n",
    "\n",
    "## **Evaluación del modelo ARIMA**\n",
    "- Evaluación de los residuos:\n",
    "  - Verificamos que los residuos fueran **ruido blanco**.\n",
    "  - Confirmamos que el proceso fuera **invertible** y **estable**.\n",
    "\n",
    "---"
   ]
  },
  {
   "cell_type": "markdown",
   "id": "437b2323-2272-4601-abd7-25fe9d82e634",
   "metadata": {
    "editable": true,
    "slideshow": {
     "slide_type": "slide"
    },
    "tags": []
   },
   "source": [
    "# Pronóstico\n",
    "\n",
    "## **Paso 4: Pronóstico con ARIMA**\n",
    "1. **Extensión del horizonte temporal**:\n",
    "    - Se agregan **10 meses adicionales**.\n",
    "    ```\n",
    "    tsappend, add(10)\n",
    "    ```\n",
    "2. **Cálculo del pronóstico**:\n",
    "    - Creamos la variable `fcpi` con los valores de la predicción.\n",
    "    ```\n",
    "    predict fcpi, y dynamic(m(2021m3))\n",
    "    ```\n",
    "    - `dynamic`: indica el inicio del pronóstico.\n",
    "    - `2021m3`: Pronóstico desde marzo 2021.\n",
    "\n",
    "---"
   ]
  },
  {
   "cell_type": "markdown",
   "id": "6410ae0f-f18c-4141-8bc2-37e2e2eb4525",
   "metadata": {
    "editable": true,
    "slideshow": {
     "slide_type": "subslide"
    },
    "tags": []
   },
   "source": [
    "# Gráfico de Predicción\n",
    "- Generamos el gráfico con las líneas de **IPC real** y **Predicción**:\n",
    "\n",
    "    ![Imagen del gráfico](Graph.png)\n",
    "\n",
    "---"
   ]
  },
  {
   "cell_type": "markdown",
   "id": "8fdad657-a585-4ece-acf6-c32988732499",
   "metadata": {
    "editable": true,
    "slideshow": {
     "slide_type": "slide"
    },
    "tags": []
   },
   "source": [
    "# Evaluación del Pronóstico\n",
    "\n",
    "## **Medidas de Ajuste del Pronóstico**\n",
    "- Comparación entre datos reales y predicción:\n",
    "    - Datos de entrenamiento: utilizados para estimar el modelo.\n",
    "    - Datos de prueba: valores verdaderos para evaluar la precisión.\n",
    "- Se combinan las bases y se calculan las métricas:\n",
    "    - **RECM**: Raíz del Error Cuadrático Medio.\n",
    "    - **EAM**: Error Absoluto Medio.\n",
    "    - **EPAM**: Error Porcentual Absoluto Medio.\n",
    "    - **MASE**: Error de Escala Absoluta Media.\n",
    "  \n",
    "---"
   ]
  },
  {
   "cell_type": "markdown",
   "id": "98ff76e7-8dbe-420a-8434-99a5dd047996",
   "metadata": {
    "editable": true,
    "slideshow": {
     "slide_type": "slide"
    },
    "tags": []
   },
   "source": [
    "# Comparación Dentro y Fuera de Muestra\n",
    "\n",
    "## **Cálculo de Medidas de Ajuste**\n",
    "1. **Datos en Muestra** (antes de marzo de 2021):\n",
    "    ```\n",
    "    fcstats cpi fcpi if _n<159\n",
    "    ```\n",
    "2. **Datos fuera de muestra** (después de marzo de 2021):\n",
    "    ```\n",
    "    fcstats CPIAUCSL fcpi if _n>158\n",
    "    ```\n",
    "\n",
    "---"
   ]
  },
  {
   "cell_type": "markdown",
   "id": "c3062eb6-6a89-49f8-a731-68c68a0c6122",
   "metadata": {
    "editable": true,
    "slideshow": {
     "slide_type": "slide"
    },
    "tags": []
   },
   "source": [
    "# SARIMA\n",
    "\n",
    "## **Pronóstico usando SARIMA**\n",
    "- Ahora aplicamos SARIMA a una serie con estacionalidad.\n",
    "- Usaremos los datos de pasajeros aéreos internacionales (1949-1960):\n",
    "    ```\n",
    "    use \"http://www.stata-press.com/data/r12/air2\"\n",
    "    generate lnair = ln(air)\n",
    "    arima lnair, arima(0,1,1) sarima(0,1,1,12) noconstant\n",
    "    ```\n",
    "\n",
    "---"
   ]
  }
 ],
 "metadata": {
  "kernelspec": {
   "display_name": "Python 3 (ipykernel)",
   "language": "python",
   "name": "python3"
  },
  "language_info": {
   "codemirror_mode": {
    "name": "ipython",
    "version": 3
   },
   "file_extension": ".py",
   "mimetype": "text/x-python",
   "name": "python",
   "nbconvert_exporter": "python",
   "pygments_lexer": "ipython3",
   "version": "3.11.4"
  }
 },
 "nbformat": 4,
 "nbformat_minor": 5
}
