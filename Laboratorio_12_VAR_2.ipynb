{
 "cells": [
  {
   "cell_type": "markdown",
   "id": "75a05c63",
   "metadata": {
    "slideshow": {
     "slide_type": "slide"
    }
   },
   "source": [
    "<center>\n",
    "    <img src=\"https://github.com/juanandres-montero/macroeconometria/blob/main/logo%20EEC%20grande.png?raw=1\" width=\"396\" height=\"161\"><br>\n",
    "    <b style=\"font-size:200%\">EC4301 MACROECONOMETRÍA</b><br>\n",
    "    <b style=\"font-size:100%\">Asistente: Juan Andrés Montero</b><br><br>\n",
    "    <b style=\"font-size:100%\"> Laboratorio #12:</b>\n",
    "    <br>    \n",
    "    <div style=\"font-size:150%; color:white; background-color: #0064b0; padding-top: 20px; padding-bottom: 20px; width: 50%; margin: 0 auto; border-radius: 15px; text-align: center;\">\n",
    "        VAR, Causalidad de Granger e Impulso Respuesta\n",
    "    </div>\n",
    "</center>\n",
    "\n",
    "<br>\n",
    "\n",
    "<i style=\"font-size:80%\"> \n",
    "    Creado: Noviembre 2024\n",
    "</i>\n",
    "\n",
    "<hr>"
   ]
  },
  {
   "cell_type": "markdown",
   "id": "5be2b086",
   "metadata": {
    "slideshow": {
     "slide_type": "slide"
    }
   },
   "source": [
    "# 1. Preparación de Datos y Selección de Rezagos\n",
    "\n",
    "## Configuración Inicial\n",
    "- Importar datos desde archivo .dta\n",
    "- Configurar serie temporal\n",
    "\n",
    "```stata\n",
    "clear all\n",
    "use \"LAB_VAR.dta\", clear\n",
    "tsset fecha\n",
    "```"
   ]
  },
  {
   "cell_type": "markdown",
   "id": "8d3a1c78",
   "metadata": {
    "slideshow": {
     "slide_type": "slide"
    }
   },
   "source": [
    "## Test de Razón de Verosimilitud\n",
    "```stata\n",
    "* Determinación del número máximo de rezagos\n",
    "* 4 [(39/4)^(1/4)] = 7.06, entonces M = 8\n",
    "gen lags = .\n",
    "gen LR_stat = .\n",
    "forval m = 1/8 {\n",
    "    quietly varbasic INF DES TPM, lags(1/`m') nograph\n",
    "    matrix Sigma_r = e(Sigma)\n",
    "    quietly varbasic INF DES TPM, lags(1/`=`m'+1') nograph\n",
    "    matrix Sigma_u = e(Sigma)\n",
    "    gen LR = 39*(ln(det(Sigma_r))-ln(det(Sigma_u)))\n",
    "    replace lags = `m' in `m'\n",
    "    replace LR_stat = LR in `m'\n",
    "    drop LR\n",
    "}\n",
    "```\n",
    "\n",
    "> 🤓 **Nota**: El valor crítico chi-cuadrado con 9 grados de libertad al 5% es 16.919"
   ]
  },
  {
   "cell_type": "markdown",
   "id": "e1deb333",
   "metadata": {
    "slideshow": {
     "slide_type": "slide"
    }
   },
   "source": [
    "# 2. Modelo VAR(1) y Causalidad de Granger\n",
    "\n",
    "## Estimación del VAR\n",
    "Basados en el análisis previo, estimamos un VAR(1):\n",
    "\n",
    "```stata\n",
    "varbasic INF DES TPM, lags(1/1) step(10) irf\n",
    "```\n",
    "\n",
    "## Prueba de Causalidad de Granger\n",
    "```stata\n",
    "vargranger\n",
    "```\n",
    "\n",
    "> 🔍 **Resultado**: La TPM causa en el sentido de Granger al Desempleo (DES)"
   ]
  },
  {
   "cell_type": "markdown",
   "id": "663f21aa",
   "metadata": {
    "slideshow": {
     "slide_type": "slide"
    }
   },
   "source": [
    "# 3. Funciones de Impulso-Respuesta\n",
    "\n",
    "## Análisis de Diferentes Ordenamientos\n",
    "El orden de las variables afecta los resultados:\n",
    "\n",
    "```stata\n",
    "* Crear modelos con diferentes ordenamientos\n",
    "irf create Modelo_1, step(10) replace\n",
    "irf create Modelo_2, order(TPM DES INF) step(10) replace\n",
    "irf create Modelo_3, order(TPM INF DES) step(10) replace\n",
    "irf create Modelo_4, order(INF TPM DES) step(10) replace\n",
    "irf create Modelo_5, order(DES INF TPM) step(10) replace\n",
    "irf create Modelo_6, order(DES TPM INF) step(10) replace\n",
    "```"
   ]
  },
  {
   "cell_type": "markdown",
   "id": "e8c4bdb8",
   "metadata": {
    "slideshow": {
     "slide_type": "slide"
    }
   },
   "source": [
    "\n",
    "## Análisis de Impulso-Respuesta\n",
    "```stata\n",
    "* Graficar impulso-respuesta específicos\n",
    "irf graph oirf, impulse(TPM) response(INF DES TPM) yline(0,lcolor(black) lpattern(dash)) byopts(yrescale) xlabel(0(2)10)\n",
    "```\n",
    "\n",
    "> 📊 **Observación**: Un shock de una desviación estándar en la TPM tiene un efecto positivo gradual sobre el desempleo"
   ]
  },
  {
   "cell_type": "markdown",
   "id": "24278e0a",
   "metadata": {
    "slideshow": {
     "slide_type": "slide"
    }
   },
   "source": [
    "# 4. Descomposición de la Varianza\n",
    "\n",
    "\n",
    "```stata\n",
    "* Análisis de la descomposición de varianza\n",
    "use Modelo.irf, clear\n",
    "keep if irfname == \"Modelo_5\"\n",
    "keep if response == \"INF\"\n",
    "keep fevd step impulse\n",
    "reshape wide fevd, i(step) j(impulse) string\n",
    "graph bar (asis) fevdTPM fevdINF fevdDES, over(step) stack\n",
    "```"
   ]
  },
  {
   "cell_type": "markdown",
   "id": "94f6e196",
   "metadata": {
    "slideshow": {
     "slide_type": "slide"
    }
   },
   "source": [
    "## Matriz de Descomposición de Cholesky (SW2001)\n",
    "Consideraciones importantes:\n",
    "1. Desempleo y TPM no tienen efectos contemporáneos en la inflación (precios rígidos)\n",
    "2. El desempleo responde con rezago a los cambios en la TPM. Inflación sí tiene efectos contemporáneos en el desempleo. (Curva Phillips)\n",
    "3. Shocks en inflación y desempleo afectan contemporáneamente la TPM (Banco Central tiene información de la economía para establecer la TPM)\n",
    "\n",
    "$\n",
    "\\Omega y_t =\n",
    "\\begin{bmatrix}\n",
    "b_{11} & 0 & 0 \\\\\n",
    "b_{21} & b_{22} & 0 \\\\\n",
    "b_{31} & b_{32} & b_{33}\n",
    "\\end{bmatrix}\n",
    "\\begin{bmatrix}\n",
    "INF_t \\\\\n",
    "DES_t \\\\\n",
    "TPM_{t}\n",
    "\\end{bmatrix}\n",
    "= B y_{t-1} + \\varepsilon_t\n",
    "$"
   ]
  }
 ],
 "metadata": {
  "celltoolbar": "Slideshow",
  "kernelspec": {
   "display_name": "Python 3 (ipykernel)",
   "language": "python",
   "name": "python3"
  },
  "language_info": {
   "codemirror_mode": {
    "name": "ipython",
    "version": 3
   },
   "file_extension": ".py",
   "mimetype": "text/x-python",
   "name": "python",
   "nbconvert_exporter": "python",
   "pygments_lexer": "ipython3",
   "version": "3.11.4"
  },
  "toc": {
   "base_numbering": 1,
   "nav_menu": {},
   "number_sections": true,
   "sideBar": true,
   "skip_h1_title": false,
   "title_cell": "Table of Contents",
   "title_sidebar": "Contents",
   "toc_cell": false,
   "toc_position": {},
   "toc_section_display": true,
   "toc_window_display": false
  }
 },
 "nbformat": 4,
 "nbformat_minor": 5
}
